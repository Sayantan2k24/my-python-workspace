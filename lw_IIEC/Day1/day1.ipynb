{
 "cells": [
  {
   "cell_type": "code",
   "execution_count": 1,
   "metadata": {},
   "outputs": [],
   "source": [
    "# String \n",
    "s = \"Linux World\""
   ]
  },
  {
   "cell_type": "code",
   "execution_count": 2,
   "metadata": {},
   "outputs": [
    {
     "data": {
      "text/plain": [
       "'L'"
      ]
     },
     "execution_count": 2,
     "metadata": {},
     "output_type": "execute_result"
    }
   ],
   "source": [
    "s[0]"
   ]
  },
  {
   "cell_type": "code",
   "execution_count": 3,
   "metadata": {},
   "outputs": [
    {
     "data": {
      "text/plain": [
       "'ux World'"
      ]
     },
     "execution_count": 3,
     "metadata": {},
     "output_type": "execute_result"
    }
   ],
   "source": [
    "s[3:]"
   ]
  },
  {
   "cell_type": "code",
   "execution_count": 4,
   "metadata": {},
   "outputs": [
    {
     "data": {
      "text/plain": [
       "'ux W'"
      ]
     },
     "execution_count": 4,
     "metadata": {},
     "output_type": "execute_result"
    }
   ],
   "source": [
    "s[3:7]"
   ]
  },
  {
   "cell_type": "code",
   "execution_count": 5,
   "metadata": {},
   "outputs": [
    {
     "data": {
      "text/plain": [
       "['__add__',\n",
       " '__class__',\n",
       " '__contains__',\n",
       " '__delattr__',\n",
       " '__dir__',\n",
       " '__doc__',\n",
       " '__eq__',\n",
       " '__format__',\n",
       " '__ge__',\n",
       " '__getattribute__',\n",
       " '__getitem__',\n",
       " '__getnewargs__',\n",
       " '__gt__',\n",
       " '__hash__',\n",
       " '__init__',\n",
       " '__init_subclass__',\n",
       " '__iter__',\n",
       " '__le__',\n",
       " '__len__',\n",
       " '__lt__',\n",
       " '__mod__',\n",
       " '__mul__',\n",
       " '__ne__',\n",
       " '__new__',\n",
       " '__reduce__',\n",
       " '__reduce_ex__',\n",
       " '__repr__',\n",
       " '__rmod__',\n",
       " '__rmul__',\n",
       " '__setattr__',\n",
       " '__sizeof__',\n",
       " '__str__',\n",
       " '__subclasshook__',\n",
       " 'capitalize',\n",
       " 'casefold',\n",
       " 'center',\n",
       " 'count',\n",
       " 'encode',\n",
       " 'endswith',\n",
       " 'expandtabs',\n",
       " 'find',\n",
       " 'format',\n",
       " 'format_map',\n",
       " 'index',\n",
       " 'isalnum',\n",
       " 'isalpha',\n",
       " 'isascii',\n",
       " 'isdecimal',\n",
       " 'isdigit',\n",
       " 'isidentifier',\n",
       " 'islower',\n",
       " 'isnumeric',\n",
       " 'isprintable',\n",
       " 'isspace',\n",
       " 'istitle',\n",
       " 'isupper',\n",
       " 'join',\n",
       " 'ljust',\n",
       " 'lower',\n",
       " 'lstrip',\n",
       " 'maketrans',\n",
       " 'partition',\n",
       " 'removeprefix',\n",
       " 'removesuffix',\n",
       " 'replace',\n",
       " 'rfind',\n",
       " 'rindex',\n",
       " 'rjust',\n",
       " 'rpartition',\n",
       " 'rsplit',\n",
       " 'rstrip',\n",
       " 'split',\n",
       " 'splitlines',\n",
       " 'startswith',\n",
       " 'strip',\n",
       " 'swapcase',\n",
       " 'title',\n",
       " 'translate',\n",
       " 'upper',\n",
       " 'zfill']"
      ]
     },
     "execution_count": 5,
     "metadata": {},
     "output_type": "execute_result"
    }
   ],
   "source": [
    "dir(s)"
   ]
  },
  {
   "cell_type": "code",
   "execution_count": 6,
   "metadata": {
    "scrolled": true
   },
   "outputs": [
    {
     "name": "stdout",
     "output_type": "stream",
     "text": [
      "Help on built-in function capitalize:\n",
      "\n",
      "capitalize() method of builtins.str instance\n",
      "    Return a capitalized version of the string.\n",
      "    \n",
      "    More specifically, make the first character have upper case and the rest lower\n",
      "    case.\n",
      "\n"
     ]
    }
   ],
   "source": [
    "help(s.capitalize)"
   ]
  },
  {
   "cell_type": "code",
   "execution_count": 7,
   "metadata": {},
   "outputs": [
    {
     "data": {
      "text/plain": [
       "'Linux world'"
      ]
     },
     "execution_count": 7,
     "metadata": {},
     "output_type": "execute_result"
    }
   ],
   "source": [
    "s.capitalize()"
   ]
  },
  {
   "cell_type": "code",
   "execution_count": 8,
   "metadata": {},
   "outputs": [
    {
     "data": {
      "text/plain": [
       "True"
      ]
     },
     "execution_count": 8,
     "metadata": {},
     "output_type": "execute_result"
    }
   ],
   "source": [
    "s.endswith(\"rld\")"
   ]
  },
  {
   "cell_type": "code",
   "execution_count": 9,
   "metadata": {},
   "outputs": [],
   "source": [
    "email = [\n",
    "        \"vimal@lw.com\", \n",
    "        \"amit@gmail.com\", \n",
    "        \"po@l.com\", \n",
    "        \"n@n.com\",\n",
    "        \"p@k.com\", \n",
    "        \"krish@gmail.com\"\n",
    "\n",
    "]"
   ]
  },
  {
   "cell_type": "code",
   "execution_count": 10,
   "metadata": {},
   "outputs": [
    {
     "data": {
      "text/plain": [
       "['vimal@lw.com',\n",
       " 'amit@gmail.com',\n",
       " 'po@l.com',\n",
       " 'n@n.com',\n",
       " 'p@k.com',\n",
       " 'krish@gmail.com']"
      ]
     },
     "execution_count": 10,
     "metadata": {},
     "output_type": "execute_result"
    }
   ],
   "source": [
    "email"
   ]
  },
  {
   "cell_type": "code",
   "execution_count": 11,
   "metadata": {},
   "outputs": [
    {
     "data": {
      "text/plain": [
       "'vimal@lw.com'"
      ]
     },
     "execution_count": 11,
     "metadata": {},
     "output_type": "execute_result"
    }
   ],
   "source": [
    "# retrieving a string from the list of strings\n",
    "email[0]\n",
    "# we can apply ebdswith() in it"
   ]
  },
  {
   "cell_type": "code",
   "execution_count": 12,
   "metadata": {},
   "outputs": [
    {
     "data": {
      "text/plain": [
       "False"
      ]
     },
     "execution_count": 12,
     "metadata": {},
     "output_type": "execute_result"
    }
   ],
   "source": [
    "email[0].endswith(\"@gmail.com\")"
   ]
  },
  {
   "cell_type": "code",
   "execution_count": 13,
   "metadata": {},
   "outputs": [
    {
     "data": {
      "text/plain": [
       "True"
      ]
     },
     "execution_count": 13,
     "metadata": {},
     "output_type": "execute_result"
    }
   ],
   "source": [
    "email[1].endswith(\"@gmail.com\")\n",
    "\n",
    "# 'amit@gmail.com' this ends with @gmail.com"
   ]
  },
  {
   "cell_type": "code",
   "execution_count": 14,
   "metadata": {},
   "outputs": [
    {
     "data": {
      "text/plain": [
       "False"
      ]
     },
     "execution_count": 14,
     "metadata": {},
     "output_type": "execute_result"
    }
   ],
   "source": [
    "email[2].endswith(\"@gmail.com\")"
   ]
  },
  {
   "cell_type": "code",
   "execution_count": 15,
   "metadata": {},
   "outputs": [],
   "source": [
    "# Use case --> I want to collect all the gmail addresses and do something on it , may be email\n",
    "\n",
    "# Use if conditions and Loop"
   ]
  },
  {
   "cell_type": "code",
   "execution_count": 16,
   "metadata": {},
   "outputs": [
    {
     "data": {
      "text/plain": [
       "False"
      ]
     },
     "execution_count": 16,
     "metadata": {},
     "output_type": "execute_result"
    }
   ],
   "source": [
    "s = \"linux world\"\n",
    "\n",
    "s.isupper()"
   ]
  },
  {
   "cell_type": "code",
   "execution_count": 17,
   "metadata": {},
   "outputs": [
    {
     "data": {
      "text/plain": [
       "True"
      ]
     },
     "execution_count": 17,
     "metadata": {},
     "output_type": "execute_result"
    }
   ],
   "source": [
    "s.islower()"
   ]
  },
  {
   "cell_type": "code",
   "execution_count": 18,
   "metadata": {},
   "outputs": [
    {
     "data": {
      "text/plain": [
       "['vimal@lw.com',\n",
       " 'amit@gmail.com',\n",
       " 'po@l.com',\n",
       " 'n@n.com',\n",
       " 'p@k.com',\n",
       " 'krish@gmail.com']"
      ]
     },
     "execution_count": 18,
     "metadata": {},
     "output_type": "execute_result"
    }
   ],
   "source": [
    "email"
   ]
  },
  {
   "cell_type": "code",
   "execution_count": 19,
   "metadata": {},
   "outputs": [
    {
     "data": {
      "text/plain": [
       "['po@l.com', 'n@n.com', 'p@k.com']"
      ]
     },
     "execution_count": 19,
     "metadata": {},
     "output_type": "execute_result"
    }
   ],
   "source": [
    "email[2:5]"
   ]
  },
  {
   "cell_type": "code",
   "execution_count": 20,
   "metadata": {},
   "outputs": [
    {
     "data": {
      "text/plain": [
       "['vimal@lw.com', 'po@l.com', 'p@k.com']"
      ]
     },
     "execution_count": 20,
     "metadata": {},
     "output_type": "execute_result"
    }
   ],
   "source": [
    "# skip the alternate positions\n",
    "# print 1st, skip 2nd , then print 3rd and so on\n",
    "email[ : : 2 ]\n",
    "\n",
    "# 2 is here jump steps\n",
    "\n"
   ]
  },
  {
   "cell_type": "code",
   "execution_count": 21,
   "metadata": {},
   "outputs": [
    {
     "data": {
      "text/plain": [
       "['vimal@lw.com',\n",
       " 'amit@gmail.com',\n",
       " 'po@l.com',\n",
       " 'n@n.com',\n",
       " 'p@k.com',\n",
       " 'krish@gmail.com']"
      ]
     },
     "execution_count": 21,
     "metadata": {},
     "output_type": "execute_result"
    }
   ],
   "source": [
    "# by default size of jump is 1\n",
    "# email[ start: end : step size]\n",
    "email[::1]\n",
    "\n",
    "# same as \n",
    "# email[:] \n",
    "# email"
   ]
  },
  {
   "cell_type": "code",
   "execution_count": 22,
   "metadata": {},
   "outputs": [
    {
     "data": {
      "text/plain": [
       "['vimal@lw.com',\n",
       " 'amit@gmail.com',\n",
       " 'po@l.com',\n",
       " 'n@n.com',\n",
       " 'p@k.com',\n",
       " 'krish@gmail.com']"
      ]
     },
     "execution_count": 22,
     "metadata": {},
     "output_type": "execute_result"
    }
   ],
   "source": [
    "email[:]"
   ]
  },
  {
   "cell_type": "code",
   "execution_count": 23,
   "metadata": {},
   "outputs": [
    {
     "data": {
      "text/plain": [
       "['vimal@lw.com',\n",
       " 'amit@gmail.com',\n",
       " 'po@l.com',\n",
       " 'n@n.com',\n",
       " 'p@k.com',\n",
       " 'krish@gmail.com']"
      ]
     },
     "execution_count": 23,
     "metadata": {},
     "output_type": "execute_result"
    }
   ],
   "source": [
    "email"
   ]
  },
  {
   "cell_type": "code",
   "execution_count": 24,
   "metadata": {},
   "outputs": [
    {
     "data": {
      "text/plain": [
       "['krish@gmail.com']"
      ]
     },
     "execution_count": 24,
     "metadata": {},
     "output_type": "execute_result"
    }
   ],
   "source": [
    "email[5:]"
   ]
  },
  {
   "cell_type": "code",
   "execution_count": 25,
   "metadata": {},
   "outputs": [
    {
     "data": {
      "text/plain": [
       "['vimal@lw.com', 'amit@gmail.com', 'po@l.com', 'n@n.com', 'p@k.com']"
      ]
     },
     "execution_count": 25,
     "metadata": {},
     "output_type": "execute_result"
    }
   ],
   "source": [
    "email[:5]"
   ]
  },
  {
   "cell_type": "code",
   "execution_count": 26,
   "metadata": {},
   "outputs": [
    {
     "data": {
      "text/plain": [
       "['amit@gmail.com', 'n@n.com', 'krish@gmail.com']"
      ]
     },
     "execution_count": 26,
     "metadata": {},
     "output_type": "execute_result"
    }
   ],
   "source": [
    "# email[ start: end : step size]\n",
    "# index 1\n",
    "# next index 1 + step size (2) = 3  so it will print the element at index 3 and so on\n",
    "# next index 3 (as last time they reached 3) + step size (2) = 5 , element at index 5\n",
    "email[1:6:2]\n",
    "\n",
    "# ['vimal@lw.com',\n",
    "#  'amit@gmail.com',\n",
    "#  'po@l,com',\n",
    "#  'n@n.com',\n",
    "#  'p@k.com',\n",
    "#  'krish@gmail.com']"
   ]
  },
  {
   "cell_type": "code",
   "execution_count": 27,
   "metadata": {},
   "outputs": [
    {
     "data": {
      "text/plain": [
       "['vimal@lw.com', 'n@n.com']"
      ]
     },
     "execution_count": 27,
     "metadata": {},
     "output_type": "execute_result"
    }
   ],
   "source": [
    "email[::3]"
   ]
  },
  {
   "cell_type": "code",
   "execution_count": 28,
   "metadata": {},
   "outputs": [
    {
     "data": {
      "text/plain": [
       "'krish@gmail.com'"
      ]
     },
     "execution_count": 28,
     "metadata": {},
     "output_type": "execute_result"
    }
   ],
   "source": [
    "# print the last data of a list\n",
    "email[-1]"
   ]
  },
  {
   "cell_type": "code",
   "execution_count": 29,
   "metadata": {},
   "outputs": [
    {
     "data": {
      "text/plain": [
       "'p@k.com'"
      ]
     },
     "execution_count": 29,
     "metadata": {},
     "output_type": "execute_result"
    }
   ],
   "source": [
    "# print 2nd last data of a list\n",
    "email[-2]"
   ]
  },
  {
   "cell_type": "code",
   "execution_count": 30,
   "metadata": {},
   "outputs": [
    {
     "data": {
      "text/plain": [
       "['n@n.com', 'p@k.com', 'krish@gmail.com']"
      ]
     },
     "execution_count": 30,
     "metadata": {},
     "output_type": "execute_result"
    }
   ],
   "source": [
    "# email[:]\n",
    "# ['vimal@lw.com',\n",
    "#  'amit@gmail.com',\n",
    "#  'po@l,com',\n",
    "#  'n@n.com',\n",
    "#  'p@k.com',\n",
    "#  'krish@gmail.com']\n",
    "\n",
    "# Print the last 3 elements\n",
    "\n",
    "email[-3:]"
   ]
  },
  {
   "cell_type": "code",
   "execution_count": 31,
   "metadata": {},
   "outputs": [
    {
     "data": {
      "text/plain": [
       "['krish@gmail.com',\n",
       " 'p@k.com',\n",
       " 'n@n.com',\n",
       " 'po@l.com',\n",
       " 'amit@gmail.com',\n",
       " 'vimal@lw.com']"
      ]
     },
     "execution_count": 31,
     "metadata": {},
     "output_type": "execute_result"
    }
   ],
   "source": [
    "# print the list in the reverse order\n",
    "# \n",
    "email[::-1]\n",
    "\n",
    "# Logically --> email[0:6:-1]\n",
    "\n",
    "\n",
    "# index 0 + -1 = -1, so print the last one, \n",
    "# as last time they reached -1\n",
    "# index -1 + -1  = -2, print the 2nd last element\n",
    "# -2 + -1 = -3\n",
    "# -3 + -1 = -4\n",
    "# -4 + -1 = -5\n",
    "# -5 + -1 = -6\n"
   ]
  },
  {
   "cell_type": "code",
   "execution_count": 32,
   "metadata": {},
   "outputs": [
    {
     "data": {
      "text/plain": [
       "'vimal@lw.com'"
      ]
     },
     "execution_count": 32,
     "metadata": {},
     "output_type": "execute_result"
    }
   ],
   "source": [
    "email[-6] # same as email[0] # first element "
   ]
  },
  {
   "cell_type": "code",
   "execution_count": 33,
   "metadata": {},
   "outputs": [],
   "source": [
    "email.reverse()"
   ]
  },
  {
   "cell_type": "code",
   "execution_count": 34,
   "metadata": {},
   "outputs": [
    {
     "data": {
      "text/plain": [
       "['krish@gmail.com',\n",
       " 'p@k.com',\n",
       " 'n@n.com',\n",
       " 'po@l.com',\n",
       " 'amit@gmail.com',\n",
       " 'vimal@lw.com']"
      ]
     },
     "execution_count": 34,
     "metadata": {},
     "output_type": "execute_result"
    }
   ],
   "source": [
    "email"
   ]
  },
  {
   "cell_type": "code",
   "execution_count": 35,
   "metadata": {},
   "outputs": [
    {
     "data": {
      "text/plain": [
       "['krish@gmail.com',\n",
       " 'p@k.com',\n",
       " 'n@n.com',\n",
       " 'po@l,com',\n",
       " 'amit@gmail.com',\n",
       " 'vimal@lw.com']"
      ]
     },
     "execution_count": 35,
     "metadata": {},
     "output_type": "execute_result"
    }
   ],
   "source": [
    "# in reverse function -- it reverse the actual data\n",
    "\n",
    "# it operates directly and update the real list\n",
    "\n",
    "# not a good practice in certain scenario\n",
    "\n",
    "# better to use email[::-1]\n",
    "# as it does not directly operates on the original list \n",
    "email =  ['vimal@lw.com',\n",
    "        'amit@gmail.com',\n",
    "        'po@l,com',\n",
    "        'n@n.com',\n",
    "        'p@k.com',\n",
    "        'krish@gmail.com'\n",
    " ]\n",
    "\n",
    "email_rev = email[::-1]\n",
    "\n",
    "email_rev\n"
   ]
  },
  {
   "cell_type": "code",
   "execution_count": 36,
   "metadata": {},
   "outputs": [
    {
     "data": {
      "text/plain": [
       "['vimal@lw.com',\n",
       " 'amit@gmail.com',\n",
       " 'po@l,com',\n",
       " 'n@n.com',\n",
       " 'p@k.com',\n",
       " 'krish@gmail.com']"
      ]
     },
     "execution_count": 36,
     "metadata": {},
     "output_type": "execute_result"
    }
   ],
   "source": [
    "# The original List is still intact\n",
    "email"
   ]
  },
  {
   "cell_type": "code",
   "execution_count": 37,
   "metadata": {},
   "outputs": [
    {
     "name": "stdout",
     "output_type": "stream",
     "text": [
      "not found\n"
     ]
    }
   ],
   "source": [
    "# String is also the List of Characters\n",
    "# same login will be there for string\n",
    "\n",
    "# eventhough in string reverse() function is not available\n",
    "s = 'hello world'\n",
    "if not 'reverse' in dir(s):\n",
    "    print(\"not found\")\n",
    "else:\n",
    "    print(\"found\")\n"
   ]
  },
  {
   "cell_type": "code",
   "execution_count": 38,
   "metadata": {},
   "outputs": [
    {
     "data": {
      "text/plain": [
       "'dlrow olleh'"
      ]
     },
     "execution_count": 38,
     "metadata": {},
     "output_type": "execute_result"
    }
   ],
   "source": [
    "# t reversed the string\n",
    "s[::-1]"
   ]
  },
  {
   "cell_type": "code",
   "execution_count": 39,
   "metadata": {},
   "outputs": [
    {
     "data": {
      "text/plain": [
       "'hello world'"
      ]
     },
     "execution_count": 39,
     "metadata": {},
     "output_type": "execute_result"
    }
   ],
   "source": [
    "# yet the original string is intact -- unchanged\n",
    "s"
   ]
  },
  {
   "cell_type": "code",
   "execution_count": 40,
   "metadata": {},
   "outputs": [],
   "source": [
    "s  = \"this us linux world hello\""
   ]
  },
  {
   "cell_type": "code",
   "execution_count": 41,
   "metadata": {},
   "outputs": [
    {
     "data": {
      "text/plain": [
       "'this us linux world hello'"
      ]
     },
     "execution_count": 41,
     "metadata": {},
     "output_type": "execute_result"
    }
   ],
   "source": [
    "# look for world called linux in this string\n",
    "# use case : malwares, spams any kind of word came then do something and all, when this term come up -- show it or create alarm etc etc\n",
    "\n",
    "s "
   ]
  },
  {
   "cell_type": "code",
   "execution_count": 42,
   "metadata": {},
   "outputs": [
    {
     "data": {
      "text/plain": [
       "(True, False)"
      ]
     },
     "execution_count": 42,
     "metadata": {},
     "output_type": "execute_result"
    }
   ],
   "source": [
    "# in is predefined internel keyword for python\n",
    "\"linux\" in s , \"vimal\" in s "
   ]
  },
  {
   "cell_type": "code",
   "execution_count": 43,
   "metadata": {},
   "outputs": [
    {
     "data": {
      "text/plain": [
       "(True, bool)"
      ]
     },
     "execution_count": 43,
     "metadata": {},
     "output_type": "execute_result"
    }
   ],
   "source": [
    "find = \"linux\" in s\n",
    "find, type(find)"
   ]
  },
  {
   "cell_type": "code",
   "execution_count": 44,
   "metadata": {},
   "outputs": [],
   "source": [
    "# Regex\n",
    "# use case --> more minute operations"
   ]
  },
  {
   "cell_type": "code",
   "execution_count": 45,
   "metadata": {},
   "outputs": [
    {
     "name": "stdout",
     "output_type": "stream",
     "text": [
      "Before swapping => x : 5 and y : 10\n",
      "After swapping => x : 10 and y : 5\n"
     ]
    }
   ],
   "source": [
    "\n",
    "x = 5\n",
    "y = 10\n",
    "\n",
    "print(f\"Before swapping => x : { x } and y : { y }\")\n",
    "\n",
    "x,y = y,x # swap the values\n",
    "\n",
    "print(f\"After swapping => x : { x } and y : { y }\")"
   ]
  },
  {
   "cell_type": "code",
   "execution_count": null,
   "metadata": {},
   "outputs": [],
   "source": []
  },
  {
   "cell_type": "code",
   "execution_count": 46,
   "metadata": {},
   "outputs": [
    {
     "data": {
      "text/plain": [
       "5"
      ]
     },
     "execution_count": 46,
     "metadata": {},
     "output_type": "execute_result"
    }
   ],
   "source": [
    "y"
   ]
  },
  {
   "cell_type": "code",
   "execution_count": 47,
   "metadata": {},
   "outputs": [
    {
     "name": "stdout",
     "output_type": "stream",
     "text": [
      "2 4 9\n",
      "2 4 9\n"
     ]
    }
   ],
   "source": [
    "i = 2\n",
    "j = 4\n",
    "k = 9\n",
    "print(i,j,k)\n",
    "\n",
    "# both same\n",
    "\n",
    "i,j,k =2,4,9\n",
    "\n",
    "print(i,j,k)"
   ]
  },
  {
   "cell_type": "code",
   "execution_count": 48,
   "metadata": {},
   "outputs": [
    {
     "data": {
      "text/plain": [
       "(2, 5, 7, 9)"
      ]
     },
     "execution_count": 48,
     "metadata": {},
     "output_type": "execute_result"
    }
   ],
   "source": [
    "# Use case: one List with you, need to assign all the elements of the list to diff variables\n",
    "db = [2,5,7,9]\n",
    "\n",
    "i,j,k,p  = db # List Unpacking Concept\n",
    "\n",
    "i,j,k,p"
   ]
  },
  {
   "cell_type": "code",
   "execution_count": 49,
   "metadata": {},
   "outputs": [
    {
     "ename": "ValueError",
     "evalue": "too many values to unpack (expected 3)",
     "output_type": "error",
     "traceback": [
      "\u001b[0;31m---------------------------------------------------------------------------\u001b[0m",
      "\u001b[0;31mValueError\u001b[0m                                Traceback (most recent call last)",
      "Cell \u001b[0;32mIn[49], line 2\u001b[0m\n\u001b[1;32m      1\u001b[0m db \u001b[38;5;241m=\u001b[39m [\u001b[38;5;241m2\u001b[39m,\u001b[38;5;241m5\u001b[39m,\u001b[38;5;241m7\u001b[39m,\u001b[38;5;241m9\u001b[39m]\n\u001b[0;32m----> 2\u001b[0m j,k,l \u001b[38;5;241m=\u001b[39m db\n",
      "\u001b[0;31mValueError\u001b[0m: too many values to unpack (expected 3)"
     ]
    }
   ],
   "source": [
    "db = [2,5,7,9]\n",
    "j,k,l = db\n"
   ]
  },
  {
   "cell_type": "code",
   "execution_count": 50,
   "metadata": {},
   "outputs": [
    {
     "data": {
      "text/plain": [
       "(2, 5, 7, 9)"
      ]
     },
     "execution_count": 50,
     "metadata": {},
     "output_type": "execute_result"
    }
   ],
   "source": [
    "db = [2,5,7,9]\n",
    "\n",
    "# This practice signals that _ is not important for further operations.\n",
    "# Saves spaces as not assiging the value to any extra variable\n",
    "_,j,k,l = db\n",
    "\n",
    "_,j,k,l"
   ]
  },
  {
   "cell_type": "code",
   "execution_count": 90,
   "metadata": {},
   "outputs": [
    {
     "name": "stdout",
     "output_type": "stream",
     "text": [
      "1\n",
      "2\n",
      "3\n",
      "4\n",
      "5\n",
      "6\n"
     ]
    }
   ],
   "source": [
    "# loop\n",
    "db = [1,2,3,4,5,6]\n",
    "for item in db:\n",
    "    print(item)\n"
   ]
  },
  {
   "cell_type": "code",
   "execution_count": 51,
   "metadata": {},
   "outputs": [
    {
     "name": "stdout",
     "output_type": "stream",
     "text": [
      "2\n",
      "5\n",
      "7\n",
      "9\n"
     ]
    }
   ],
   "source": [
    "# while loop\n",
    "\n",
    "i = 0\n",
    "while(i != len(db)):\n",
    "    print(db[i])\n",
    "    i = i + 1"
   ]
  },
  {
   "cell_type": "code",
   "execution_count": 99,
   "metadata": {},
   "outputs": [
    {
     "data": {
      "text/plain": [
       "['vimal@lw.com',\n",
       " 'amit@gmail.com',\n",
       " 'po@l.com',\n",
       " 'n@n.com',\n",
       " 'p@k.com',\n",
       " 'krish@gmail.com']"
      ]
     },
     "execution_count": 99,
     "metadata": {},
     "output_type": "execute_result"
    }
   ],
   "source": [
    "email"
   ]
  },
  {
   "cell_type": "code",
   "execution_count": 102,
   "metadata": {},
   "outputs": [
    {
     "name": "stdout",
     "output_type": "stream",
     "text": [
      "mail sent to amit@gmail.com\n",
      "mail sent to krish@gmail.com\n"
     ]
    }
   ],
   "source": [
    "# for loop\n",
    "for e in email:\n",
    "    # print(e)\n",
    "    # create the code for sending the mail\n",
    "    # criteria --> only those who have '@gmail.com' in it, only send them mail\n",
    "\n",
    "    # conditionals\n",
    "\n",
    "    if '@gmail.com' in e:\n",
    "        #mail code\n",
    "        print(f\"mail sent to {e}\")\n",
    "    # else:\n",
    "    #     print(f\"{e} mail not sent\")\n",
    "\n"
   ]
  },
  {
   "cell_type": "code",
   "execution_count": 52,
   "metadata": {},
   "outputs": [
    {
     "name": "stdout",
     "output_type": "stream",
     "text": [
      "I will not join\n"
     ]
    }
   ],
   "source": [
    "# we have some requirement\n",
    "# HR department \n",
    "# The particular role perspective -- they have something in my mind\n",
    "\n",
    "# if salary is less than 10\n",
    "# more than 10 I will join the job\n",
    "\n",
    "offering = 5\n",
    "\n",
    "if offering < 10:\n",
    "    print(\"I will not join\")\n",
    "elif offering >= 10:\n",
    "    print(\"I will Join\")\n"
   ]
  },
  {
   "cell_type": "code",
   "execution_count": 53,
   "metadata": {},
   "outputs": [
    {
     "name": "stdout",
     "output_type": "stream",
     "text": [
      "will not join\n"
     ]
    }
   ],
   "source": [
    "# ternary operator\n",
    "# value_if_true if condition else value_if_false\n",
    "\n",
    "offering = 5\n",
    "\n",
    "decision = \"will join\" if offering >= 10 else \"will not join\"\n",
    "\n",
    "print(decision) # Output --> 'will not join'"
   ]
  },
  {
   "cell_type": "code",
   "execution_count": 54,
   "metadata": {},
   "outputs": [
    {
     "data": {
      "text/plain": [
       "'will join'"
      ]
     },
     "execution_count": 54,
     "metadata": {},
     "output_type": "execute_result"
    }
   ],
   "source": [
    "\n",
    "# we can do this way too\n",
    "# ternary operator\n",
    "# value_if_true if condition else value_if_false\n",
    "offering = 20\n",
    "\"will join\" if offering >= 10 else \"will not join\" # Output --> 'will join'\n"
   ]
  },
  {
   "cell_type": "code",
   "execution_count": 55,
   "metadata": {},
   "outputs": [
    {
     "name": "stdout",
     "output_type": "stream",
     "text": [
      "ok\n"
     ]
    }
   ],
   "source": [
    "# if --> looks for the condition\n",
    "# if the condition True then will do something and if False do something else\n",
    "# actually --> if looks for Boolean --> True or False\n",
    "if True:\n",
    "    print(\"ok\")\n",
    "else:\n",
    "    print(\"not ok\")"
   ]
  },
  {
   "cell_type": "code",
   "execution_count": 56,
   "metadata": {},
   "outputs": [
    {
     "name": "stdout",
     "output_type": "stream",
     "text": [
      "not ok\n"
     ]
    }
   ],
   "source": [
    "if False:\n",
    "    print(\"ok\")\n",
    "else:\n",
    "    print(\"not ok\")"
   ]
  },
  {
   "cell_type": "code",
   "execution_count": 57,
   "metadata": {},
   "outputs": [
    {
     "name": "stdout",
     "output_type": "stream",
     "text": [
      "Linux World\n"
     ]
    }
   ],
   "source": [
    "# Output should be\n",
    "# Linux World\n",
    "\n",
    "condition = bool(print(\"Linux \", end=\"\"))\n",
    "# as bool take it as False\n",
    "if (condition):\n",
    "    print(\"Linux \")\n",
    "else:\n",
    "    print(\"World\")"
   ]
  },
  {
   "cell_type": "code",
   "execution_count": 58,
   "metadata": {},
   "outputs": [
    {
     "data": {
      "text/plain": [
       "True"
      ]
     },
     "execution_count": 58,
     "metadata": {},
     "output_type": "execute_result"
    }
   ],
   "source": [
    "# anything that exists, for bool() it is the truth, True\n",
    "bool(\"hello\")"
   ]
  },
  {
   "cell_type": "code",
   "execution_count": 59,
   "metadata": {},
   "outputs": [
    {
     "data": {
      "text/plain": [
       "True"
      ]
     },
     "execution_count": 59,
     "metadata": {},
     "output_type": "execute_result"
    }
   ],
   "source": [
    "# any number to boolean is true \n",
    "bool(37)"
   ]
  },
  {
   "cell_type": "code",
   "execution_count": 60,
   "metadata": {},
   "outputs": [
    {
     "data": {
      "text/plain": [
       "False"
      ]
     },
     "execution_count": 60,
     "metadata": {},
     "output_type": "execute_result"
    }
   ],
   "source": [
    "# any number to boolean is true except 0\n",
    "bool(0)"
   ]
  },
  {
   "cell_type": "code",
   "execution_count": 61,
   "metadata": {},
   "outputs": [
    {
     "name": "stdout",
     "output_type": "stream",
     "text": [
      "hi\n"
     ]
    },
    {
     "data": {
      "text/plain": [
       "False"
      ]
     },
     "execution_count": 61,
     "metadata": {},
     "output_type": "execute_result"
    }
   ],
   "source": [
    "# # print(\"hi\")\n",
    "\n",
    "# # printing is different thing \n",
    "# # if this function is returning something that is diff thing\n",
    "\n",
    "# # print() does not returning anything\n",
    "# As print is not returning anything to bool, bool takes it as False\n",
    "bool(print(\"hi\")) "
   ]
  },
  {
   "cell_type": "code",
   "execution_count": 62,
   "metadata": {},
   "outputs": [
    {
     "name": "stdout",
     "output_type": "stream",
     "text": [
      "hi\n"
     ]
    },
    {
     "data": {
      "text/plain": [
       "True"
      ]
     },
     "execution_count": 62,
     "metadata": {},
     "output_type": "execute_result"
    }
   ],
   "source": [
    "not bool(print(\"hi\")) "
   ]
  },
  {
   "cell_type": "code",
   "execution_count": 63,
   "metadata": {},
   "outputs": [
    {
     "name": "stdout",
     "output_type": "stream",
     "text": [
      "this is Linux World\n",
      "this is Linux World\n"
     ]
    }
   ],
   "source": [
    "# print() and escape sequence\n",
    "\n",
    "s =  \"this is Linux World\"\n",
    "\n",
    "print(s)\n",
    "print(s,end=\"\\n\")"
   ]
  },
  {
   "cell_type": "code",
   "execution_count": 64,
   "metadata": {},
   "outputs": [
    {
     "name": "stdout",
     "output_type": "stream",
     "text": [
      "this is \n",
      "Linux World\n",
      "this is \n",
      "Linux Worldthis is \n",
      "Linux World\n"
     ]
    }
   ],
   "source": [
    "s =  \"this is \\nLinux World\"\n",
    "# \\n is for new line \n",
    "print(s)\n",
    "print(s,end='')\n",
    "print(s)"
   ]
  },
  {
   "cell_type": "code",
   "execution_count": 65,
   "metadata": {},
   "outputs": [
    {
     "name": "stdout",
     "output_type": "stream",
     "text": [
      "this is Linux \t World..........\n",
      "this is Linux \t World..........\t....\t..."
     ]
    }
   ],
   "source": [
    "# some examples\n",
    "# \\t for tab\n",
    "s =  \"this is Linux \\t World\"\n",
    "\n",
    "print(s, end='..........\\n')\n",
    "print(s,end='..........\\t....\\t...')"
   ]
  },
  {
   "cell_type": "code",
   "execution_count": 66,
   "metadata": {},
   "outputs": [
    {
     "data": {
      "text/plain": [
       "['vimal@lw.com',\n",
       " 'amit@gmail.com',\n",
       " 'po@l,com',\n",
       " 'n@n.com',\n",
       " 'p@k.com',\n",
       " 'krish@gmail.com']"
      ]
     },
     "execution_count": 66,
     "metadata": {},
     "output_type": "execute_result"
    }
   ],
   "source": [
    "\n",
    "\n",
    "email"
   ]
  },
  {
   "cell_type": "code",
   "execution_count": 67,
   "metadata": {},
   "outputs": [
    {
     "name": "stdout",
     "output_type": "stream",
     "text": [
      "amit@gmail.com\n",
      "krish@gmail.com\n"
     ]
    }
   ],
   "source": [
    "# Only print those emails who have '@gmail.com' at last\n",
    "# Every e is a string, they support endswith() function\n",
    "\n",
    "for e in email:\n",
    "    if e.endswith(\"@gmail.com\"): \n",
    "        print(e)\n",
    "# good for data filteration too"
   ]
  },
  {
   "cell_type": "code",
   "execution_count": 68,
   "metadata": {},
   "outputs": [],
   "source": [
    "# This code send the whatsapp Message\n",
    "# rest will do later\n",
    "# I have a list of Mobile Number \n",
    "\n",
    "mobiles = [\n",
    "    \"+91 9876543210\",  # India\n",
    "    \"+1 202-555-0171\",  # United States\n",
    "    \"+49 151 23456789\",  # Germany\n",
    "    \"+91 9123456789\",  # India\n",
    "    \"+61 412 345 678\",  # Australia\n",
    "    \"+1 415-555-2671\",  # United States\n",
    "    \"+1 647-555-1234\",  # Canada\n",
    "    \"+91 9001234567\",  # India\n",
    "    \"+33 6 12 34 56 78\",  # France\n",
    "    \"+1 718-555-7890\",  # United States\n",
    "    \"+91 9988776655\",  # India\n",
    "    \"+44 7700 900123\",  # United Kingdom\n",
    "    \"+81 90-1234-5678\",  # Japan\n",
    "    \"+1 646-555-1234\",  # United States\n",
    "    \"+1 303-555-0456\"   # United States\n",
    "]\n"
   ]
  },
  {
   "cell_type": "code",
   "execution_count": 72,
   "metadata": {},
   "outputs": [
    {
     "name": "stdout",
     "output_type": "stream",
     "text": [
      "+91 9876543210\n",
      "+91 9123456789\n",
      "+91 9001234567\n",
      "+91 9988776655\n",
      "These are Indian Numbers\n"
     ]
    }
   ],
   "source": [
    "for mobile in mobiles:\n",
    "    if mobile.startswith(\"+91\"):\n",
    "        print(mobile)\n",
    "        \n",
    "    \n",
    "print(\"These are Indian Numbers\")"
   ]
  },
  {
   "cell_type": "code",
   "execution_count": 73,
   "metadata": {},
   "outputs": [],
   "source": []
  },
  {
   "cell_type": "code",
   "execution_count": 4,
   "metadata": {},
   "outputs": [
    {
     "name": "stderr",
     "output_type": "stream",
     "text": [
      "Error: no DISPLAY environment variable specified\n"
     ]
    },
    {
     "data": {
      "text/plain": [
       "256"
      ]
     },
     "execution_count": 4,
     "metadata": {},
     "output_type": "execute_result"
    }
   ],
   "source": [
    "# we Can Do this way\n",
    "\n",
    "import subprocess\n",
    "import os\n",
    "\n",
    "# Pass the command as a list of arguments\n",
    "firefox_path = subprocess.run([\"which\", \"firefox\"], capture_output=True, text=True)\n",
    "# firefox_path = subprocess.run(\"which firefox\", shell=True, capture_output=True, text=True)\n",
    "\n",
    "firefox_path = subprocess.run(\"which firefox\", shell=True, capture_output=True, text=True)\n",
    "os.system(firefox_path.stdout.strip())\n",
    "\n",
    "# Error: no DISPLAY environment variable specified \n",
    "# as connecting through VScode using ssh but it will work if we have on the system itself via local login"
   ]
  },
  {
   "cell_type": "code",
   "execution_count": 5,
   "metadata": {},
   "outputs": [],
   "source": [
    "# >>> import subprocess\n",
    "# >>> import os\n",
    "# >>> # Pass the command as a list of arguments\n",
    "# >>> firefox_path = subprocess.run([\"which\", \"firefox\"], capture_output=True, text=True)\n",
    "# >>> # firefox_path = subprocess.run(\"which firefox\", shell=True, capture_output=True, text=True)\n",
    "# >>> \n",
    "# >>> firefox_path = subprocess.run(\"which firefox\", shell=True, capture_output=True, text=True)\n",
    "# >>> os.system(firefox_path.stdout.strip())\n",
    "# Gtk-Message: 11:29:02.083: Not loading module \"atk-bridge\": The functionality is provided by GTK natively. Please try to not load it."
   ]
  },
  {
   "cell_type": "code",
   "execution_count": 76,
   "metadata": {},
   "outputs": [
    {
     "name": "stderr",
     "output_type": "stream",
     "text": [
      "Error: no DISPLAY environment variable specified\n"
     ]
    },
    {
     "data": {
      "text/plain": [
       "256"
      ]
     },
     "execution_count": 76,
     "metadata": {},
     "output_type": "execute_result"
    }
   ],
   "source": [
    "import os\n",
    "\n",
    "os.system(\"firefox\")\n",
    "\n",
    "# >>> import os\n",
    "# >>> os.system(\"firefox\")\n",
    "# Gtk-Message: 11:30:23.739: Not loading module \"atk-bridge\": The functionality is provided by GTK natively. Please try to not load it.\n",
    "\n"
   ]
  },
  {
   "cell_type": "code",
   "execution_count": 77,
   "metadata": {},
   "outputs": [
    {
     "ename": "KeyError",
     "evalue": "'DISPLAY'",
     "output_type": "error",
     "traceback": [
      "\u001b[0;31m---------------------------------------------------------------------------\u001b[0m",
      "\u001b[0;31mKeyError\u001b[0m                                  Traceback (most recent call last)",
      "Cell \u001b[0;32mIn[77], line 11\u001b[0m\n\u001b[1;32m      1\u001b[0m \u001b[38;5;66;03m# plugins to connect to other tools (like whatsapp, AWS, Instagram, Gmail etc etc)\u001b[39;00m\n\u001b[1;32m      2\u001b[0m \u001b[38;5;66;03m# install and import Libraries related to connectivity to that tool\u001b[39;00m\n\u001b[1;32m      3\u001b[0m \n\u001b[0;32m   (...)\u001b[0m\n\u001b[1;32m      9\u001b[0m \u001b[38;5;66;03m# pip install pywhatkit\u001b[39;00m\n\u001b[1;32m     10\u001b[0m \u001b[38;5;66;03m# load module\u001b[39;00m\n\u001b[0;32m---> 11\u001b[0m \u001b[38;5;28;01mimport\u001b[39;00m \u001b[38;5;21;01mpywhatkit\u001b[39;00m \u001b[38;5;28;01mas\u001b[39;00m \u001b[38;5;21;01mkit\u001b[39;00m\n\u001b[1;32m     13\u001b[0m \u001b[38;5;66;03m# Basic example to send a WhatsApp message\u001b[39;00m\n\u001b[1;32m     14\u001b[0m phone_number \u001b[38;5;241m=\u001b[39m \u001b[38;5;124m\"\u001b[39m\u001b[38;5;124m+911234567890\u001b[39m\u001b[38;5;124m\"\u001b[39m  \u001b[38;5;66;03m# Enter the recipient's phone number with country code\u001b[39;00m\n",
      "File \u001b[0;32m~/.local/lib/python3.10/site-packages/pywhatkit/__init__.py:16\u001b[0m\n\u001b[1;32m     14\u001b[0m \u001b[38;5;28;01mfrom\u001b[39;00m \u001b[38;5;21;01mpywhatkit\u001b[39;00m\u001b[38;5;21;01m.\u001b[39;00m\u001b[38;5;21;01mmisc\u001b[39;00m \u001b[38;5;28;01mimport\u001b[39;00m info, playonyt, search, show_history, web_screenshot\n\u001b[1;32m     15\u001b[0m \u001b[38;5;28;01mfrom\u001b[39;00m \u001b[38;5;21;01mpywhatkit\u001b[39;00m\u001b[38;5;21;01m.\u001b[39;00m\u001b[38;5;21;01msc\u001b[39;00m \u001b[38;5;28;01mimport\u001b[39;00m cancel_shutdown, shutdown\n\u001b[0;32m---> 16\u001b[0m \u001b[38;5;28;01mfrom\u001b[39;00m \u001b[38;5;21;01mpywhatkit\u001b[39;00m\u001b[38;5;21;01m.\u001b[39;00m\u001b[38;5;21;01mwhats\u001b[39;00m \u001b[38;5;28;01mimport\u001b[39;00m (\n\u001b[1;32m     17\u001b[0m     open_web,\n\u001b[1;32m     18\u001b[0m     sendwhatmsg,\n\u001b[1;32m     19\u001b[0m     sendwhatmsg_instantly,\n\u001b[1;32m     20\u001b[0m     sendwhatmsg_to_group,\n\u001b[1;32m     21\u001b[0m     sendwhatmsg_to_group_instantly,\n\u001b[1;32m     22\u001b[0m     sendwhats_image,\n\u001b[1;32m     23\u001b[0m )\n\u001b[1;32m     25\u001b[0m \u001b[38;5;28;01mif\u001b[39;00m system()\u001b[38;5;241m.\u001b[39mlower() \u001b[38;5;129;01min\u001b[39;00m (\u001b[38;5;124m\"\u001b[39m\u001b[38;5;124mdarwin\u001b[39m\u001b[38;5;124m\"\u001b[39m, \u001b[38;5;124m\"\u001b[39m\u001b[38;5;124mwindows\u001b[39m\u001b[38;5;124m\"\u001b[39m):\n\u001b[1;32m     26\u001b[0m     \u001b[38;5;28;01mfrom\u001b[39;00m \u001b[38;5;21;01mpywhatkit\u001b[39;00m\u001b[38;5;21;01m.\u001b[39;00m\u001b[38;5;21;01mmisc\u001b[39;00m \u001b[38;5;28;01mimport\u001b[39;00m take_screenshot\n",
      "File \u001b[0;32m~/.local/lib/python3.10/site-packages/pywhatkit/whats.py:7\u001b[0m\n\u001b[1;32m      4\u001b[0m \u001b[38;5;28;01mfrom\u001b[39;00m \u001b[38;5;21;01mtyping\u001b[39;00m \u001b[38;5;28;01mimport\u001b[39;00m Optional\n\u001b[1;32m      5\u001b[0m \u001b[38;5;28;01mfrom\u001b[39;00m \u001b[38;5;21;01murllib\u001b[39;00m\u001b[38;5;21;01m.\u001b[39;00m\u001b[38;5;21;01mparse\u001b[39;00m \u001b[38;5;28;01mimport\u001b[39;00m quote\n\u001b[0;32m----> 7\u001b[0m \u001b[38;5;28;01mimport\u001b[39;00m \u001b[38;5;21;01mpyautogui\u001b[39;00m \u001b[38;5;28;01mas\u001b[39;00m \u001b[38;5;21;01mpg\u001b[39;00m\n\u001b[1;32m      9\u001b[0m \u001b[38;5;28;01mfrom\u001b[39;00m \u001b[38;5;21;01mpywhatkit\u001b[39;00m\u001b[38;5;21;01m.\u001b[39;00m\u001b[38;5;21;01mcore\u001b[39;00m \u001b[38;5;28;01mimport\u001b[39;00m core, exceptions, log\n\u001b[1;32m     11\u001b[0m pg\u001b[38;5;241m.\u001b[39mFAILSAFE \u001b[38;5;241m=\u001b[39m \u001b[38;5;28;01mFalse\u001b[39;00m\n",
      "File \u001b[0;32m~/.local/lib/python3.10/site-packages/pyautogui/__init__.py:246\u001b[0m\n\u001b[1;32m    242\u001b[0m     screenshot \u001b[38;5;241m=\u001b[39m _couldNotImportPyScreeze\n\u001b[1;32m    245\u001b[0m \u001b[38;5;28;01mtry\u001b[39;00m:\n\u001b[0;32m--> 246\u001b[0m     \u001b[38;5;28;01mimport\u001b[39;00m \u001b[38;5;21;01mmouseinfo\u001b[39;00m\n\u001b[1;32m    248\u001b[0m     \u001b[38;5;28;01mdef\u001b[39;00m \u001b[38;5;21mmouseInfo\u001b[39m():\n\u001b[1;32m    249\u001b[0m \u001b[38;5;250m        \u001b[39m\u001b[38;5;124;03m\"\"\"\u001b[39;00m\n\u001b[1;32m    250\u001b[0m \u001b[38;5;124;03m        Launches the MouseInfo app. This application provides mouse coordinate information which can be useful when\u001b[39;00m\n\u001b[1;32m    251\u001b[0m \u001b[38;5;124;03m        planning GUI automation tasks. This function blocks until the application is closed.\u001b[39;00m\n\u001b[1;32m    252\u001b[0m \u001b[38;5;124;03m        \"\"\"\u001b[39;00m\n",
      "File \u001b[0;32m~/.local/lib/python3.10/site-packages/mouseinfo/__init__.py:223\u001b[0m\n\u001b[1;32m    220\u001b[0m     \u001b[38;5;28;01melse\u001b[39;00m:\n\u001b[1;32m    221\u001b[0m         \u001b[38;5;28;01mraise\u001b[39;00m\n\u001b[0;32m--> 223\u001b[0m _display \u001b[38;5;241m=\u001b[39m Display(\u001b[43mos\u001b[49m\u001b[38;5;241;43m.\u001b[39;49m\u001b[43menviron\u001b[49m\u001b[43m[\u001b[49m\u001b[38;5;124;43m'\u001b[39;49m\u001b[38;5;124;43mDISPLAY\u001b[39;49m\u001b[38;5;124;43m'\u001b[39;49m\u001b[43m]\u001b[49m)\n\u001b[1;32m    225\u001b[0m \u001b[38;5;28;01mdef\u001b[39;00m \u001b[38;5;21m_linuxPosition\u001b[39m():\n\u001b[1;32m    226\u001b[0m     coord \u001b[38;5;241m=\u001b[39m _display\u001b[38;5;241m.\u001b[39mscreen()\u001b[38;5;241m.\u001b[39mroot\u001b[38;5;241m.\u001b[39mquery_pointer()\u001b[38;5;241m.\u001b[39m_data\n",
      "File \u001b[0;32m/usr/lib/python3.10/os.py:680\u001b[0m, in \u001b[0;36m_Environ.__getitem__\u001b[0;34m(self, key)\u001b[0m\n\u001b[1;32m    677\u001b[0m     value \u001b[38;5;241m=\u001b[39m \u001b[38;5;28mself\u001b[39m\u001b[38;5;241m.\u001b[39m_data[\u001b[38;5;28mself\u001b[39m\u001b[38;5;241m.\u001b[39mencodekey(key)]\n\u001b[1;32m    678\u001b[0m \u001b[38;5;28;01mexcept\u001b[39;00m \u001b[38;5;167;01mKeyError\u001b[39;00m:\n\u001b[1;32m    679\u001b[0m     \u001b[38;5;66;03m# raise KeyError with the original key value\u001b[39;00m\n\u001b[0;32m--> 680\u001b[0m     \u001b[38;5;28;01mraise\u001b[39;00m \u001b[38;5;167;01mKeyError\u001b[39;00m(key) \u001b[38;5;28;01mfrom\u001b[39;00m \u001b[38;5;28;01mNone\u001b[39;00m\n\u001b[1;32m    681\u001b[0m \u001b[38;5;28;01mreturn\u001b[39;00m \u001b[38;5;28mself\u001b[39m\u001b[38;5;241m.\u001b[39mdecodevalue(value)\n",
      "\u001b[0;31mKeyError\u001b[0m: 'DISPLAY'"
     ]
    }
   ],
   "source": [
    "# plugins to connect to other tools (like whatsapp, AWS, Instagram, Gmail etc etc)\n",
    "# install and import Libraries related to connectivity to that tool\n",
    "\n",
    "\n",
    "\n",
    "# A module is a file that contains functions, classes, or variables.\n",
    "# A library is a collection of related modules that provide a set of functionalities.\n",
    "\n",
    "# pip install pywhatkit\n",
    "# load module\n",
    "import pywhatkit as kit\n",
    "\n",
    "# Basic example to send a WhatsApp message\n",
    "phone_number = \"+911234567890\"  # Enter the recipient's phone number with country code\n",
    "message = \"Hello! This is a test message sent from Python.\"\n",
    "hour = 11  # 24-hour format (e.g., 14 for 2 PM)\n",
    "minute = 52  # Time when the message should be sent\n",
    "\n",
    "# Send WhatsApp message\n",
    "kit.sendwhatmsg(phone_number, message, hour, minute)\n",
    "\n",
    "print(\"Message scheduled!\")\n",
    "\n"
   ]
  },
  {
   "cell_type": "code",
   "execution_count": 7,
   "metadata": {},
   "outputs": [],
   "source": [
    "# This code send the whatsapp Message\n",
    "# rest will do later\n",
    "# I have a list of Mobile Number \n",
    "\n",
    "mobiles = [\n",
    "    \"+91 9876543210\",  # India\n",
    "    \"+1 202-555-0171\",  # United States\n",
    "    \"+49 151 23456789\",  # Germany\n",
    "    \"+91 9123456789\",  # India\n",
    "    \"+61 412 345 678\",  # Australia\n",
    "    \"+1 415-555-2671\",  # United States\n",
    "    \"+1 647-555-1234\",  # Canada\n",
    "    \"+91 9001234567\",  # India\n",
    "    \"+33 6 12 34 56 78\",  # France\n",
    "    \"+1 718-555-7890\",  # United States\n",
    "    \"+91 9988776655\",  # India\n",
    "    \"+44 7700 900123\",  # United Kingdom\n",
    "    \"+81 90-1234-5678\",  # Japan\n",
    "    \"+1 646-555-1234\",  # United States\n",
    "    \"+1 303-555-0456\"   # United States\n",
    "]\n",
    "\n",
    "\n"
   ]
  },
  {
   "cell_type": "code",
   "execution_count": 78,
   "metadata": {},
   "outputs": [
    {
     "ename": "KeyError",
     "evalue": "'DISPLAY'",
     "output_type": "error",
     "traceback": [
      "\u001b[0;31m---------------------------------------------------------------------------\u001b[0m",
      "\u001b[0;31mKeyError\u001b[0m                                  Traceback (most recent call last)",
      "Cell \u001b[0;32mIn[78], line 2\u001b[0m\n\u001b[1;32m      1\u001b[0m \u001b[38;5;66;03m# ubuntu\u001b[39;00m\n\u001b[0;32m----> 2\u001b[0m \u001b[38;5;28;01mimport\u001b[39;00m \u001b[38;5;21;01mpywhatkit\u001b[39;00m \u001b[38;5;28;01mas\u001b[39;00m \u001b[38;5;21;01mkit\u001b[39;00m\n\u001b[1;32m      4\u001b[0m \u001b[38;5;28;01mfor\u001b[39;00m mobile \u001b[38;5;129;01min\u001b[39;00m mobiles:\n\u001b[1;32m      5\u001b[0m     \u001b[38;5;28;01mif\u001b[39;00m mobile\u001b[38;5;241m.\u001b[39mstartswith(\u001b[38;5;124m\"\u001b[39m\u001b[38;5;124m+91\u001b[39m\u001b[38;5;124m\"\u001b[39m):\n",
      "File \u001b[0;32m~/.local/lib/python3.10/site-packages/pywhatkit/__init__.py:16\u001b[0m\n\u001b[1;32m     14\u001b[0m \u001b[38;5;28;01mfrom\u001b[39;00m \u001b[38;5;21;01mpywhatkit\u001b[39;00m\u001b[38;5;21;01m.\u001b[39;00m\u001b[38;5;21;01mmisc\u001b[39;00m \u001b[38;5;28;01mimport\u001b[39;00m info, playonyt, search, show_history, web_screenshot\n\u001b[1;32m     15\u001b[0m \u001b[38;5;28;01mfrom\u001b[39;00m \u001b[38;5;21;01mpywhatkit\u001b[39;00m\u001b[38;5;21;01m.\u001b[39;00m\u001b[38;5;21;01msc\u001b[39;00m \u001b[38;5;28;01mimport\u001b[39;00m cancel_shutdown, shutdown\n\u001b[0;32m---> 16\u001b[0m \u001b[38;5;28;01mfrom\u001b[39;00m \u001b[38;5;21;01mpywhatkit\u001b[39;00m\u001b[38;5;21;01m.\u001b[39;00m\u001b[38;5;21;01mwhats\u001b[39;00m \u001b[38;5;28;01mimport\u001b[39;00m (\n\u001b[1;32m     17\u001b[0m     open_web,\n\u001b[1;32m     18\u001b[0m     sendwhatmsg,\n\u001b[1;32m     19\u001b[0m     sendwhatmsg_instantly,\n\u001b[1;32m     20\u001b[0m     sendwhatmsg_to_group,\n\u001b[1;32m     21\u001b[0m     sendwhatmsg_to_group_instantly,\n\u001b[1;32m     22\u001b[0m     sendwhats_image,\n\u001b[1;32m     23\u001b[0m )\n\u001b[1;32m     25\u001b[0m \u001b[38;5;28;01mif\u001b[39;00m system()\u001b[38;5;241m.\u001b[39mlower() \u001b[38;5;129;01min\u001b[39;00m (\u001b[38;5;124m\"\u001b[39m\u001b[38;5;124mdarwin\u001b[39m\u001b[38;5;124m\"\u001b[39m, \u001b[38;5;124m\"\u001b[39m\u001b[38;5;124mwindows\u001b[39m\u001b[38;5;124m\"\u001b[39m):\n\u001b[1;32m     26\u001b[0m     \u001b[38;5;28;01mfrom\u001b[39;00m \u001b[38;5;21;01mpywhatkit\u001b[39;00m\u001b[38;5;21;01m.\u001b[39;00m\u001b[38;5;21;01mmisc\u001b[39;00m \u001b[38;5;28;01mimport\u001b[39;00m take_screenshot\n",
      "File \u001b[0;32m~/.local/lib/python3.10/site-packages/pywhatkit/whats.py:7\u001b[0m\n\u001b[1;32m      4\u001b[0m \u001b[38;5;28;01mfrom\u001b[39;00m \u001b[38;5;21;01mtyping\u001b[39;00m \u001b[38;5;28;01mimport\u001b[39;00m Optional\n\u001b[1;32m      5\u001b[0m \u001b[38;5;28;01mfrom\u001b[39;00m \u001b[38;5;21;01murllib\u001b[39;00m\u001b[38;5;21;01m.\u001b[39;00m\u001b[38;5;21;01mparse\u001b[39;00m \u001b[38;5;28;01mimport\u001b[39;00m quote\n\u001b[0;32m----> 7\u001b[0m \u001b[38;5;28;01mimport\u001b[39;00m \u001b[38;5;21;01mpyautogui\u001b[39;00m \u001b[38;5;28;01mas\u001b[39;00m \u001b[38;5;21;01mpg\u001b[39;00m\n\u001b[1;32m      9\u001b[0m \u001b[38;5;28;01mfrom\u001b[39;00m \u001b[38;5;21;01mpywhatkit\u001b[39;00m\u001b[38;5;21;01m.\u001b[39;00m\u001b[38;5;21;01mcore\u001b[39;00m \u001b[38;5;28;01mimport\u001b[39;00m core, exceptions, log\n\u001b[1;32m     11\u001b[0m pg\u001b[38;5;241m.\u001b[39mFAILSAFE \u001b[38;5;241m=\u001b[39m \u001b[38;5;28;01mFalse\u001b[39;00m\n",
      "File \u001b[0;32m~/.local/lib/python3.10/site-packages/pyautogui/__init__.py:246\u001b[0m\n\u001b[1;32m    242\u001b[0m     screenshot \u001b[38;5;241m=\u001b[39m _couldNotImportPyScreeze\n\u001b[1;32m    245\u001b[0m \u001b[38;5;28;01mtry\u001b[39;00m:\n\u001b[0;32m--> 246\u001b[0m     \u001b[38;5;28;01mimport\u001b[39;00m \u001b[38;5;21;01mmouseinfo\u001b[39;00m\n\u001b[1;32m    248\u001b[0m     \u001b[38;5;28;01mdef\u001b[39;00m \u001b[38;5;21mmouseInfo\u001b[39m():\n\u001b[1;32m    249\u001b[0m \u001b[38;5;250m        \u001b[39m\u001b[38;5;124;03m\"\"\"\u001b[39;00m\n\u001b[1;32m    250\u001b[0m \u001b[38;5;124;03m        Launches the MouseInfo app. This application provides mouse coordinate information which can be useful when\u001b[39;00m\n\u001b[1;32m    251\u001b[0m \u001b[38;5;124;03m        planning GUI automation tasks. This function blocks until the application is closed.\u001b[39;00m\n\u001b[1;32m    252\u001b[0m \u001b[38;5;124;03m        \"\"\"\u001b[39;00m\n",
      "File \u001b[0;32m~/.local/lib/python3.10/site-packages/mouseinfo/__init__.py:223\u001b[0m\n\u001b[1;32m    220\u001b[0m     \u001b[38;5;28;01melse\u001b[39;00m:\n\u001b[1;32m    221\u001b[0m         \u001b[38;5;28;01mraise\u001b[39;00m\n\u001b[0;32m--> 223\u001b[0m _display \u001b[38;5;241m=\u001b[39m Display(\u001b[43mos\u001b[49m\u001b[38;5;241;43m.\u001b[39;49m\u001b[43menviron\u001b[49m\u001b[43m[\u001b[49m\u001b[38;5;124;43m'\u001b[39;49m\u001b[38;5;124;43mDISPLAY\u001b[39;49m\u001b[38;5;124;43m'\u001b[39;49m\u001b[43m]\u001b[49m)\n\u001b[1;32m    225\u001b[0m \u001b[38;5;28;01mdef\u001b[39;00m \u001b[38;5;21m_linuxPosition\u001b[39m():\n\u001b[1;32m    226\u001b[0m     coord \u001b[38;5;241m=\u001b[39m _display\u001b[38;5;241m.\u001b[39mscreen()\u001b[38;5;241m.\u001b[39mroot\u001b[38;5;241m.\u001b[39mquery_pointer()\u001b[38;5;241m.\u001b[39m_data\n",
      "File \u001b[0;32m/usr/lib/python3.10/os.py:680\u001b[0m, in \u001b[0;36m_Environ.__getitem__\u001b[0;34m(self, key)\u001b[0m\n\u001b[1;32m    677\u001b[0m     value \u001b[38;5;241m=\u001b[39m \u001b[38;5;28mself\u001b[39m\u001b[38;5;241m.\u001b[39m_data[\u001b[38;5;28mself\u001b[39m\u001b[38;5;241m.\u001b[39mencodekey(key)]\n\u001b[1;32m    678\u001b[0m \u001b[38;5;28;01mexcept\u001b[39;00m \u001b[38;5;167;01mKeyError\u001b[39;00m:\n\u001b[1;32m    679\u001b[0m     \u001b[38;5;66;03m# raise KeyError with the original key value\u001b[39;00m\n\u001b[0;32m--> 680\u001b[0m     \u001b[38;5;28;01mraise\u001b[39;00m \u001b[38;5;167;01mKeyError\u001b[39;00m(key) \u001b[38;5;28;01mfrom\u001b[39;00m \u001b[38;5;28;01mNone\u001b[39;00m\n\u001b[1;32m    681\u001b[0m \u001b[38;5;28;01mreturn\u001b[39;00m \u001b[38;5;28mself\u001b[39m\u001b[38;5;241m.\u001b[39mdecodevalue(value)\n",
      "\u001b[0;31mKeyError\u001b[0m: 'DISPLAY'"
     ]
    }
   ],
   "source": [
    "# ubuntu\n",
    "import pywhatkit as kit\n",
    "\n",
    "for mobile in mobiles:\n",
    "    if mobile.startswith(\"+91\"):\n",
    "        kit.sendwhatmsg(mobile, \"Hello! This is a test message sent from Python.\", 11, 52)\n",
    "\n",
    "# will not work now. first start webapp from browser and connect  to your whatsapp web account\n",
    "\n",
    "\n"
   ]
  },
  {
   "cell_type": "code",
   "execution_count": null,
   "metadata": {},
   "outputs": [],
   "source": [
    "# in windows\n",
    "import pywhatkit as kit\n",
    "kit.sendwhatmsg(\"+91 1234567890\", \"Hello! This is a test message sent from Python.\", 11, 52)\n",
    "\n",
    "# In 69 Seconds WhatsApp will open and after 15 Seconds Message will be Delivered!\n"
   ]
  }
 ],
 "metadata": {
  "kernelspec": {
   "display_name": "Python 3 (ipykernel)",
   "language": "python",
   "name": "python3"
  },
  "language_info": {
   "codemirror_mode": {
    "name": "ipython",
    "version": 3
   },
   "file_extension": ".py",
   "mimetype": "text/x-python",
   "name": "python",
   "nbconvert_exporter": "python",
   "pygments_lexer": "ipython3",
   "version": "3.10.12"
  }
 },
 "nbformat": 4,
 "nbformat_minor": 4
}
