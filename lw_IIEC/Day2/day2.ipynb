{
 "cells": [
  {
   "cell_type": "code",
   "execution_count": 2,
   "metadata": {},
   "outputs": [
    {
     "name": "stdout",
     "output_type": "stream",
     "text": [
      "1111\n",
      "2222\n",
      "3333\n",
      "4444\n",
      "5555\n"
     ]
    }
   ],
   "source": [
    "mobiles = [1111, 2222, 3333,4444,5555]\n",
    "\n",
    "for m in mobiles:\n",
    "    print(m)"
   ]
  },
  {
   "cell_type": "code",
   "execution_count": 3,
   "metadata": {},
   "outputs": [],
   "source": [
    "# sms to mobile by python code\n",
    "\n"
   ]
  },
  {
   "cell_type": "code",
   "execution_count": 9,
   "metadata": {},
   "outputs": [
    {
     "name": "stdout",
     "output_type": "stream",
     "text": [
      "found\n"
     ]
    }
   ],
   "source": [
    "# Use case --> Requirement\n",
    "# I only want to print when Inencounter 2222 , as soon as encounter, print it and stop for loop\n",
    "\n",
    "mobiles = [1111, 2222, 3333,4444,5555]\n",
    "\n",
    "for m in mobiles:\n",
    "    if m == 2222:\n",
    "        print(\"found\")"
   ]
  },
  {
   "cell_type": "code",
   "execution_count": 13,
   "metadata": {},
   "outputs": [
    {
     "name": "stdout",
     "output_type": "stream",
     "text": [
      "found\n"
     ]
    }
   ],
   "source": [
    "# if my mobile number that I am looking for is not available, In this case, I want my program to send me not found\n",
    "# Traverse through the entire list, if the element not found -- only print \"not found\" just one time, otherwise when encounteres the element , print \"found\" and break the loop\n",
    "# if I have 1 billion numbers I don't want to print not found billion times.\n",
    "# 1st Approach\n",
    "mobiles = [1111, 2222, 3333,4444,5555]\n",
    "\n",
    "flag = 0\n",
    "\n",
    "for m in mobiles:\n",
    "    if m == 2222:\n",
    "        print(\"found\")\n",
    "        flag = 1\n",
    "        break\n",
    "\n",
    "if flag != 1:\n",
    "    print(\"not found\")\n"
   ]
  },
  {
   "cell_type": "code",
   "execution_count": 22,
   "metadata": {},
   "outputs": [
    {
     "name": "stdout",
     "output_type": "stream",
     "text": [
      "found\n",
      "not found\n"
     ]
    }
   ],
   "source": [
    "# else with the for loop also\n",
    "\n",
    "# How this Works \n",
    "# For loop will travese through the entire data it has, do matching one by one, even after matching they won't stop and keep on traversing till the last element\n",
    "# at the end of the entire data, no error occured, so for loop will complete, done with the entire data then only, it will run the else condition\n",
    "\n",
    "mobiles = [1111, 2222, 3333,4444,5555]\n",
    "for m in mobiles:\n",
    "    if m == 5555:\n",
    "        print(\"found\")\n",
    "else: \n",
    "        print(\"not found\")\n"
   ]
  },
  {
   "cell_type": "code",
   "execution_count": 23,
   "metadata": {},
   "outputs": [
    {
     "name": "stdout",
     "output_type": "stream",
     "text": [
      "not found\n"
     ]
    }
   ],
   "source": [
    "mobiles = [1111, 2222, 3333,4444,5555]\n",
    "for m in mobiles:\n",
    "    if m == 6666:\n",
    "        print(\"found\")\n",
    "else: \n",
    "        print(\"not found\")"
   ]
  },
  {
   "cell_type": "code",
   "execution_count": 26,
   "metadata": {},
   "outputs": [
    {
     "name": "stdout",
     "output_type": "stream",
     "text": [
      "found\n"
     ]
    }
   ],
   "source": [
    "# But I don't want to run the else part , if in the for loop they get the desired data.\n",
    "\n",
    "# so use break\n",
    "\n",
    "# for loop will iterate through the entire data, but if want to stop for loop in between, then use break\n",
    "# when to run the break, use conditions \n",
    "\n",
    "# as for loop is not completed till the last data. it will not go to else also\n",
    "# else only run with for loop -- if for loop runs through the entire data\n",
    "\n",
    "mobiles = [1111, 2222, 3333,4444,5555]\n",
    "for m in mobiles:\n",
    "    if m == 5555:\n",
    "        print(\"found\")\n",
    "        break\n",
    "else: \n",
    "        print(\"not found\")\n"
   ]
  },
  {
   "cell_type": "code",
   "execution_count": 27,
   "metadata": {},
   "outputs": [
    {
     "name": "stdout",
     "output_type": "stream",
     "text": [
      "not found\n"
     ]
    }
   ],
   "source": [
    "mobiles = [1111, 2222, 3333,4444,5555]\n",
    "for m in mobiles:\n",
    "    if m == 7777:\n",
    "        print(\"found\")\n",
    "        break\n",
    "else: \n",
    "        print(\"not found\")"
   ]
  },
  {
   "cell_type": "code",
   "execution_count": 30,
   "metadata": {},
   "outputs": [],
   "source": [
    "emails = [\n",
    "        \"vimal@lw.com\", \n",
    "        \"amit@gmail.com\", \n",
    "        \"po@l.com\", \n",
    "        \"n@n.com\",\n",
    "        \"p@k.com\", \n",
    "        \"krish@gmail.com\"\n",
    "\n",
    "]\n",
    "\n"
   ]
  },
  {
   "cell_type": "code",
   "execution_count": 31,
   "metadata": {},
   "outputs": [
    {
     "name": "stdout",
     "output_type": "stream",
     "text": [
      "vimal@lw.com\n",
      "amit@gmail.com\n",
      "po@l.com\n",
      "n@n.com\n",
      "p@k.com\n",
      "krish@gmail.com\n",
      "mail sent to all\n"
     ]
    }
   ],
   "source": [
    "# after picking email one by one and sending the mail to every email till the last\n",
    "# only then I want to notify to other team that, all the mail sent.\n",
    "# But, if somehow it gets intruppted somewhere in between, for loop stops; it will send notification\n",
    "# if this requirement comes up, we can approach like below\n",
    "\n",
    "for email in emails:\n",
    "    print(email)\n",
    "    # code to send mail\n",
    "else:\n",
    "    print(\"mail sent to all\")"
   ]
  },
  {
   "cell_type": "code",
   "execution_count": 34,
   "metadata": {},
   "outputs": [
    {
     "name": "stdout",
     "output_type": "stream",
     "text": [
      "40\n"
     ]
    }
   ],
   "source": [
    "# one requirement\n",
    "\n",
    "salary = 5\n",
    "\n",
    "if salary >= 4:\n",
    "    target = 40\n",
    "elif salary < 4:\n",
    "    target = 20\n",
    "\n",
    "print(target)"
   ]
  },
  {
   "cell_type": "code",
   "execution_count": 49,
   "metadata": {},
   "outputs": [
    {
     "name": "stdout",
     "output_type": "stream",
     "text": [
      "20\n"
     ]
    }
   ],
   "source": [
    "\n",
    "# 5 lines of code\n",
    "# set target either 20 or 40 based on this condition\n",
    "\n",
    "# # Functional Programming language\n",
    "# Inline Code == Like one single line the entire logic done\n",
    "\n",
    "# ternary conditional expression\n",
    "\n",
    "salary = 3\n",
    "target = 40 if salary >=4 else 20\n",
    "print(target)\n",
    "\n",
    "# in place of 40 and 20 , \n",
    "# we can introduce functions there to to do some different tasks \n",
    "# based on certain conditions\n"
   ]
  },
  {
   "cell_type": "code",
   "execution_count": 52,
   "metadata": {},
   "outputs": [
    {
     "data": {
      "text/plain": [
       "20"
      ]
     },
     "execution_count": 52,
     "metadata": {},
     "output_type": "execute_result"
    }
   ],
   "source": [
    "\n",
    "# more shorter\n",
    "\n",
    "salary = 3\n",
    "40 if salary >=4 else 20\n"
   ]
  },
  {
   "cell_type": "code",
   "execution_count": 53,
   "metadata": {},
   "outputs": [
    {
     "data": {
      "text/plain": [
       "'no job'"
      ]
     },
     "execution_count": 53,
     "metadata": {},
     "output_type": "execute_result"
    }
   ],
   "source": [
    "salary = 3\n",
    "\"job\" if salary >=4 else \"no job\"\n"
   ]
  },
  {
   "cell_type": "code",
   "execution_count": 48,
   "metadata": {},
   "outputs": [
    {
     "data": {
      "text/plain": [
       "'job'"
      ]
     },
     "execution_count": 48,
     "metadata": {},
     "output_type": "execute_result"
    }
   ],
   "source": [
    "salary = 4\n",
    "\"job\" if salary >=4 else \"no job\"\n"
   ]
  },
  {
   "cell_type": "markdown",
   "metadata": {},
   "source": [
    "ETL Operation"
   ]
  },
  {
   "cell_type": "code",
   "execution_count": 66,
   "metadata": {},
   "outputs": [
    {
     "name": "stdout",
     "output_type": "stream",
     "text": [
      "[1, 4, 9, 16, 25]\n"
     ]
    }
   ],
   "source": [
    "# I have a requirement\n",
    "# list of numbers\n",
    "\n",
    "db = [1,2,3,4,5]\n",
    "\n",
    "# requirement is square the number\n",
    "#  and put the squared values in another new list\n",
    "\n",
    "# ETL operation\n",
    "## Extract each number from db, Transform it by squaring, and Load the result into new_db\n",
    "\n",
    "new_db = []\n",
    "\n",
    "for i in db: # Extract\n",
    "    j = i * i # Transform\n",
    "    new_db.append(j) # Load \n",
    "\n",
    "print(new_db)"
   ]
  },
  {
   "cell_type": "markdown",
   "metadata": {},
   "source": [
    "**List Comprehension**"
   ]
  },
  {
   "cell_type": "code",
   "execution_count": 67,
   "metadata": {},
   "outputs": [
    {
     "name": "stdout",
     "output_type": "stream",
     "text": [
      "[1, 4, 9, 16, 25]\n"
     ]
    }
   ],
   "source": [
    "db = [1,2,3,4,5]\n",
    "\n",
    "# ETL in one single line\n",
    "# logic in one line using list comprehension\n",
    "new_db = [i * i for i in db]\n",
    "\n",
    "print(new_db)"
   ]
  },
  {
   "cell_type": "code",
   "execution_count": 68,
   "metadata": {},
   "outputs": [
    {
     "name": "stdout",
     "output_type": "stream",
     "text": [
      "[1, 4, 16, 25]\n"
     ]
    }
   ],
   "source": [
    "\n",
    "db = [1,2,3,4,5]\n",
    "new_db = []\n",
    "\n",
    "for i in db: # Extract\n",
    "    if i !=3: # don't square when 3 is encountered\n",
    "        j = i * i # Transform\n",
    "        new_db.append(j) # Load \n",
    "\n",
    "print(new_db)"
   ]
  },
  {
   "cell_type": "code",
   "execution_count": 75,
   "metadata": {},
   "outputs": [],
   "source": [
    "# **Syntax**:\n",
    "\n",
    "# new_list = [ Transforming  Extracting  ConditionMatching ] \n",
    "#     4             3            1              2\n",
    "#    Load \n",
    "\n",
    "# new_db = [    i * i       for i in db       if i != 3    ]"
   ]
  },
  {
   "cell_type": "code",
   "execution_count": 73,
   "metadata": {},
   "outputs": [
    {
     "name": "stdout",
     "output_type": "stream",
     "text": [
      "[1, 4, 16, 25]\n"
     ]
    }
   ],
   "source": [
    "# same with List Cmprehension\n",
    "\n",
    "db = [1,2,3,4,5]\n",
    "\n",
    "# LIST COMPREHENSION\n",
    "new_db = [i * i      for i in db    if i != 3]\n",
    "\n",
    "print(new_db)"
   ]
  },
  {
   "cell_type": "markdown",
   "metadata": {},
   "source": [
    "**String Concatenation**"
   ]
  },
  {
   "cell_type": "code",
   "execution_count": 80,
   "metadata": {},
   "outputs": [],
   "source": [
    "s = 'linux'\n"
   ]
  },
  {
   "cell_type": "code",
   "execution_count": 82,
   "metadata": {},
   "outputs": [
    {
     "data": {
      "text/plain": [
       "'linux'"
      ]
     },
     "execution_count": 82,
     "metadata": {},
     "output_type": "execute_result"
    }
   ],
   "source": [
    "s"
   ]
  },
  {
   "cell_type": "code",
   "execution_count": 83,
   "metadata": {},
   "outputs": [
    {
     "data": {
      "text/plain": [
       "'linux World'"
      ]
     },
     "execution_count": 83,
     "metadata": {},
     "output_type": "execute_result"
    }
   ],
   "source": [
    "# concatenation\n",
    "s + \" \" + \"World\""
   ]
  },
  {
   "cell_type": "code",
   "execution_count": 84,
   "metadata": {},
   "outputs": [],
   "source": [
    "# list of names\n",
    "# All the names replace with the domain name like email addresses\n",
    "# vimal@lw.com etc etc\n",
    "\n",
    "\n",
    "\n",
    "names = [\"vimal\", \"jack\", \"pop\", \"eric\"]\n",
    "final_emails  = [ n + \"@lwindia.com\"  for n in names]"
   ]
  },
  {
   "cell_type": "code",
   "execution_count": 85,
   "metadata": {},
   "outputs": [
    {
     "data": {
      "text/plain": [
       "['vimal@lwindia.com',\n",
       " 'jack@lwindia.com',\n",
       " 'pop@lwindia.com',\n",
       " 'eric@lwindia.com']"
      ]
     },
     "execution_count": 85,
     "metadata": {},
     "output_type": "execute_result"
    }
   ],
   "source": [
    "final_emails"
   ]
  },
  {
   "cell_type": "code",
   "execution_count": null,
   "metadata": {},
   "outputs": [],
   "source": []
  },
  {
   "cell_type": "markdown",
   "metadata": {},
   "source": [
    "Since in your original code:\n",
    "\n",
    "```python\n",
    "final_emails = [n + \"@lwindia.com\" for n in names if not n.endswith(\"@gmail.com\")]\n",
    "```\n",
    "\n",
    "You are **only transforming the data when the condition is met** (`if not n.endswith(\"@gmail.com\")`), you're **excluding** the `else` case. This is a more typical **filtering approach**, where you only modify and include elements that satisfy the condition and skip the rest.\n",
    "\n",
    "In this scenario:\n",
    "- **Transforming** happens only for the names without a valid email (`@gmail.com`).\n",
    "- There's no `else` case because items that already have a valid email are just excluded (not added to the new list).\n",
    "\n",
    "### When you **don't need an `else`**:\n",
    "This approach is good when:\n",
    "- You **only need to modify and include items** that satisfy a specific condition.\n",
    "- You want to **ignore** or **skip** the elements that don't match the condition (like emails already ending with `@gmail.com`).\n",
    "\n",
    "### Example in your case:\n",
    "- `vimal`, `pop`, and `eric` don't have valid email IDs, so they are transformed and added to the list with `@lwindia.com`.\n",
    "- `jack@gmail.com` already has a valid email ID, so it's not included in the `final_emails` list.\n",
    "\n",
    "**Output:**\n",
    "\n",
    "```python\n",
    "['vimal@lwindia.com', 'pop@lwindia.com', 'eric@lwindia.com']\n",
    "```\n",
    "\n",
    "### When to use this approach:\n",
    "- **Filtering and Transforming**: You apply a transformation **only to elements that meet the condition** and exclude others. \n",
    "- No need for an `else` transformation since you’re fine with **ignoring** items that don't match the condition.\n",
    "\n",
    "In cases where **you need to keep all the items** (including ones that don’t meet the condition), you should use the ternary `if-else` approach we discussed earlier, to handle both `if` and `else` conditions."
   ]
  },
  {
   "cell_type": "code",
   "execution_count": 90,
   "metadata": {},
   "outputs": [],
   "source": [
    "# Scenario\n",
    "# in case any one don't have valid email id only then will add @lwindia.com on our behalf \n",
    "# and put them inside new list\n",
    "\n",
    "# here jack has a valid email id\n",
    "names = [\"vimal\", \"jack@gmail.com\", \"pop\", \"eric\"]\n",
    "\n",
    "final_emails = [ n + \"@lwindia.com\"  for n in names  if not n.endswith(\"@gmail.com\") ]"
   ]
  },
  {
   "cell_type": "code",
   "execution_count": 87,
   "metadata": {},
   "outputs": [
    {
     "data": {
      "text/plain": [
       "['vimal@lwindia.com', 'pop@lwindia.com', 'eric@lwindia.com']"
      ]
     },
     "execution_count": 87,
     "metadata": {},
     "output_type": "execute_result"
    }
   ],
   "source": [
    "final_emails"
   ]
  },
  {
   "cell_type": "code",
   "execution_count": 101,
   "metadata": {},
   "outputs": [],
   "source": [
    "# But what if I want \n",
    "# like retrieving all the emails that have a valid id, \n",
    "# no issue if it ends with @gamil.com or @lwindia.com\n",
    "# don't exclude any, just add proper id where necessary\n",
    "\n",
    "# longer approach\n",
    "\n",
    "names = [\"vimal\", \"jack@gmail.com\", \"pop\", \"eric\"]\n",
    "final_emails = []\n",
    "\n",
    "\n",
    "for n in names:\n",
    "    if not n.endswith(\"@gmail.com\"):\n",
    "        n = n + \"@lwindia.com\"\n",
    "    #     final_emails.append(n)\n",
    "    # else:\n",
    "    #     final_emails.append(n)\n",
    "\n",
    "    final_emails.append(n) # common operation both if or else cases\n",
    "    # we can just write this after the if block ends\n"
   ]
  },
  {
   "cell_type": "code",
   "execution_count": 102,
   "metadata": {},
   "outputs": [
    {
     "data": {
      "text/plain": [
       "['vimal@lwindia.com', 'jack@gmail.com', 'pop@lwindia.com', 'eric@lwindia.com']"
      ]
     },
     "execution_count": 102,
     "metadata": {},
     "output_type": "execute_result"
    }
   ],
   "source": [
    "final_emails"
   ]
  },
  {
   "cell_type": "code",
   "execution_count": 121,
   "metadata": {},
   "outputs": [],
   "source": [
    "#final_emails = [ Transforming if ConditionMatching else Transformation  for Extracting ]\n"
   ]
  },
  {
   "cell_type": "code",
   "execution_count": 115,
   "metadata": {},
   "outputs": [],
   "source": [
    "# But what if I want \n",
    "# like retrieving all the emails that have a valid id, \n",
    "# no issue if it ends with @gamil.com or @lwindia.com\n",
    "# don't exclude any, just add proper id where necessary\n",
    "# List comprehension approach\n",
    "\n",
    "# Loading = [Transform Extract Condition(True/False)]\n",
    "names = [\"vimal\", \"jack@gmail.com\", \"pop\", \"eric\"]\n",
    "\n",
    "final_emails = [ n + \"@lwindia.com\"  if not n.endswith(\"@gmail.com\")  else  n  for n in names  ]"
   ]
  },
  {
   "cell_type": "code",
   "execution_count": 116,
   "metadata": {},
   "outputs": [
    {
     "data": {
      "text/plain": [
       "['vimal@lwindia.com', 'jack@gmail.com', 'pop@lwindia.com', 'eric@lwindia.com']"
      ]
     },
     "execution_count": 116,
     "metadata": {},
     "output_type": "execute_result"
    }
   ],
   "source": [
    "final_emails"
   ]
  },
  {
   "cell_type": "markdown",
   "metadata": {},
   "source": [
    "# Explanation of above code\n",
    "\n",
    "final_emails = [ n + \"@lwindia.com\"  if not n.endswith(\"@gmail.com\")  else  n  for n in names  ]"
   ]
  },
  {
   "cell_type": "markdown",
   "metadata": {},
   "source": [
    "** Explanation**\n",
    "\n",
    "When you have different transformations happening based on an `if` condition and you want to account for both the `if` and `else` cases, you can write the transformation in the form of a **ternary expression** (also called a **conditional expression**) within the list comprehension.\n",
    "\n",
    "The ternary expression in Python has the following structure:\n",
    "\n",
    "```python\n",
    "value_if_true if condition else value_if_false\n",
    "```\n",
    "\n",
    "### Key Points:\n",
    "- **`value_if_true`**: The transformation or value when the `if` condition is satisfied.\n",
    "- **`condition`**: The condition that determines whether to apply the true or false transformation.\n",
    "- **`value_if_false`**: The transformation or value when the condition is not satisfied.\n",
    "\n",
    "In a list comprehension, this is typically structured as:\n",
    "\n",
    "```python\n",
    "[ value_if_true if condition else value_if_false for item in iterable ]\n",
    "```\n",
    "\n",
    "### Example Scenario:\n",
    "\n",
    "Let’s take your previous case where you want to:\n",
    "1. Keep the email unchanged if it ends with `@gmail.com`.\n",
    "2. Add `@lwindia.com` if it doesn't have a valid email.\n",
    "\n",
    "Here's the **ternary transformation** in a list comprehension:\n",
    "\n",
    "```python\n",
    "names = [\"vimal\", \"jack@gmail.com\", \"pop\", \"eric\"]\n",
    "\n",
    "# Apply the transformation based on the condition using a ternary expression\n",
    "final_emails = [n if n.endswith(\"@gmail.com\") else n + \"@lwindia.com\" for n in names]\n",
    "\n",
    "# Output: ['vimal@lwindia.com', 'jack@gmail.com', 'pop@lwindia.com', 'eric@lwindia.com']\n",
    "```\n",
    "\n",
    "### Breakdown:\n",
    "- **`n if n.endswith(\"@gmail.com\")`**: This checks if the name already ends with `@gmail.com`. If true, it keeps the email unchanged.\n",
    "- **`else n + \"@lwindia.com\"`**: If the condition is false, it appends `@lwindia.com` to the name.\n",
    "- **`for n in names`**: Iterates over each item in the `names` list.\n",
    "\n",
    "### When to use this pattern:\n",
    "- When you want to **apply different transformations** based on a condition.\n",
    "- When both **`if` and `else` cases need distinct actions**.\n",
    "- When you want the operation to remain **concise and readable**.\n",
    "\n",
    "### Example 2:\n",
    "You might also use this ternary structure for more complex transformations:\n",
    "\n",
    "#### Example: Add country code only if missing\n",
    "```python\n",
    "phone_numbers = [\"123456789\", \"+91123456789\", \"987654321\"]\n",
    "\n",
    "# Add \"+91\" if the number doesn't start with a \"+\" (indicating missing country code)\n",
    "final_numbers = [num if num.startswith(\"+\") else \"+91\" + num for num in phone_numbers]\n",
    "\n",
    "# Output: ['+91123456789', '+91123456789', '+91987654321']\n",
    "```\n",
    "\n",
    "In this case:\n",
    "- **`num if num.startswith(\"+\")`**: Keeps the number unchanged if it already has a country code.\n",
    "- **`else \"+91\" + num`**: Adds the country code `+91` if the condition is not met.\n",
    "\n",
    "### Summary:\n",
    "Yes, to handle both `if` and `else` transformations, you write the transformation in a **ternary expression** format inside the list comprehension. This allows you to handle **conditional logic** concisely and apply different transformations depending on whether the condition is satisfied or not."
   ]
  },
  {
   "cell_type": "code",
   "execution_count": null,
   "metadata": {},
   "outputs": [],
   "source": []
  },
  {
   "cell_type": "markdown",
   "metadata": {},
   "source": [
    "**Here We are excluding Else part -- no need here on based on use case.Just write the Transformation this way**"
   ]
  },
  {
   "cell_type": "markdown",
   "metadata": {},
   "source": [
    "***new_list = [ Transforming  Extracting  ConditionMatching ]***\n"
   ]
  },
  {
   "cell_type": "code",
   "execution_count": 117,
   "metadata": {},
   "outputs": [],
   "source": [
    "names = [\"vimal\", \"jack@gmail.com\", \"pop\", \"eric\"]\n",
    "\n",
    "final_emails = [ n + \"@lwindia.com\"  for n in names if not n.endswith(\"@gmail.com\")  ]"
   ]
  },
  {
   "cell_type": "code",
   "execution_count": 118,
   "metadata": {},
   "outputs": [
    {
     "data": {
      "text/plain": [
       "['vimal@lwindia.com', 'pop@lwindia.com', 'eric@lwindia.com']"
      ]
     },
     "execution_count": 118,
     "metadata": {},
     "output_type": "execute_result"
    }
   ],
   "source": [
    "final_emails"
   ]
  },
  {
   "cell_type": "code",
   "execution_count": null,
   "metadata": {},
   "outputs": [],
   "source": []
  }
 ],
 "metadata": {
  "kernelspec": {
   "display_name": "Python 3",
   "language": "python",
   "name": "python3"
  },
  "language_info": {
   "codemirror_mode": {
    "name": "ipython",
    "version": 3
   },
   "file_extension": ".py",
   "mimetype": "text/x-python",
   "name": "python",
   "nbconvert_exporter": "python",
   "pygments_lexer": "ipython3",
   "version": "3.10.12"
  }
 },
 "nbformat": 4,
 "nbformat_minor": 2
}
