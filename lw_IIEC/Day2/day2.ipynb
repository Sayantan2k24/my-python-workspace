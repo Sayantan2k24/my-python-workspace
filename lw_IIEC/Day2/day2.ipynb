{
 "cells": [
  {
   "cell_type": "code",
   "execution_count": 2,
   "metadata": {},
   "outputs": [
    {
     "name": "stdout",
     "output_type": "stream",
     "text": [
      "1111\n",
      "2222\n",
      "3333\n",
      "4444\n",
      "5555\n"
     ]
    }
   ],
   "source": [
    "mobiles = [1111, 2222, 3333,4444,5555]\n",
    "\n",
    "for m in mobiles:\n",
    "    print(m)"
   ]
  },
  {
   "cell_type": "code",
   "execution_count": 3,
   "metadata": {},
   "outputs": [],
   "source": [
    "# sms to mobile by python code\n",
    "\n"
   ]
  },
  {
   "cell_type": "code",
   "execution_count": 9,
   "metadata": {},
   "outputs": [
    {
     "name": "stdout",
     "output_type": "stream",
     "text": [
      "found\n"
     ]
    }
   ],
   "source": [
    "# Use case --> Requirement\n",
    "# I only want to print when Inencounter 2222 , as soon as encounter, print it and stop for loop\n",
    "\n",
    "mobiles = [1111, 2222, 3333,4444,5555]\n",
    "\n",
    "for m in mobiles:\n",
    "    if m == 2222:\n",
    "        print(\"found\")"
   ]
  },
  {
   "cell_type": "code",
   "execution_count": 13,
   "metadata": {},
   "outputs": [
    {
     "name": "stdout",
     "output_type": "stream",
     "text": [
      "found\n"
     ]
    }
   ],
   "source": [
    "# if my mobile number that I am looking for is not available, In this case, I want my program to send me not found\n",
    "# Traverse through the entire list, if the element not found -- only print \"not found\" just one time, otherwise when encounteres the element , print \"found\" and break the loop\n",
    "# if I have 1 billion numbers I don't want to print not found billion times.\n",
    "# 1st Approach\n",
    "mobiles = [1111, 2222, 3333,4444,5555]\n",
    "\n",
    "flag = 0\n",
    "\n",
    "for m in mobiles:\n",
    "    if m == 2222:\n",
    "        print(\"found\")\n",
    "        flag = 1\n",
    "        break\n",
    "\n",
    "if flag != 1:\n",
    "    print(\"not found\")\n"
   ]
  },
  {
   "cell_type": "code",
   "execution_count": 22,
   "metadata": {},
   "outputs": [
    {
     "name": "stdout",
     "output_type": "stream",
     "text": [
      "found\n",
      "not found\n"
     ]
    }
   ],
   "source": [
    "# else with the for loop also\n",
    "\n",
    "# How this Works \n",
    "# For loop will travese through the entire data it has, do matching one by one, even after matching they won't stop and keep on traversing till the last element\n",
    "# at the end of the entire data, no error occured, so for loop will complete, done with the entire data then only, it will run the else condition\n",
    "\n",
    "mobiles = [1111, 2222, 3333,4444,5555]\n",
    "for m in mobiles:\n",
    "    if m == 5555:\n",
    "        print(\"found\")\n",
    "else: \n",
    "        print(\"not found\")\n"
   ]
  },
  {
   "cell_type": "code",
   "execution_count": 23,
   "metadata": {},
   "outputs": [
    {
     "name": "stdout",
     "output_type": "stream",
     "text": [
      "not found\n"
     ]
    }
   ],
   "source": [
    "mobiles = [1111, 2222, 3333,4444,5555]\n",
    "for m in mobiles:\n",
    "    if m == 6666:\n",
    "        print(\"found\")\n",
    "else: \n",
    "        print(\"not found\")"
   ]
  },
  {
   "cell_type": "code",
   "execution_count": 26,
   "metadata": {},
   "outputs": [
    {
     "name": "stdout",
     "output_type": "stream",
     "text": [
      "found\n"
     ]
    }
   ],
   "source": [
    "# But I don't want to run the else part , if in the for loop they get the desired data.\n",
    "\n",
    "# so use break\n",
    "\n",
    "# for loop will iterate through the entire data, but if want to stop for loop in between, then use break\n",
    "# when to run the break, use conditions \n",
    "\n",
    "# as for loop is not completed till the last data. it will not go to else also\n",
    "# else only run with for loop -- if for loop runs through the entire data\n",
    "\n",
    "mobiles = [1111, 2222, 3333,4444,5555]\n",
    "for m in mobiles:\n",
    "    if m == 5555:\n",
    "        print(\"found\")\n",
    "        break\n",
    "else: \n",
    "        print(\"not found\")\n"
   ]
  },
  {
   "cell_type": "code",
   "execution_count": 27,
   "metadata": {},
   "outputs": [
    {
     "name": "stdout",
     "output_type": "stream",
     "text": [
      "not found\n"
     ]
    }
   ],
   "source": [
    "mobiles = [1111, 2222, 3333,4444,5555]\n",
    "for m in mobiles:\n",
    "    if m == 7777:\n",
    "        print(\"found\")\n",
    "        break\n",
    "else: \n",
    "        print(\"not found\")"
   ]
  },
  {
   "cell_type": "code",
   "execution_count": null,
   "metadata": {},
   "outputs": [],
   "source": []
  }
 ],
 "metadata": {
  "kernelspec": {
   "display_name": "Python 3",
   "language": "python",
   "name": "python3"
  },
  "language_info": {
   "codemirror_mode": {
    "name": "ipython",
    "version": 3
   },
   "file_extension": ".py",
   "mimetype": "text/x-python",
   "name": "python",
   "nbconvert_exporter": "python",
   "pygments_lexer": "ipython3",
   "version": "3.10.12"
  }
 },
 "nbformat": 4,
 "nbformat_minor": 2
}
