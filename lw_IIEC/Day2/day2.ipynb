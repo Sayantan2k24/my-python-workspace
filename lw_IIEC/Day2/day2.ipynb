{
 "cells": [
  {
   "cell_type": "code",
   "execution_count": 2,
   "metadata": {},
   "outputs": [
    {
     "name": "stdout",
     "output_type": "stream",
     "text": [
      "1111\n",
      "2222\n",
      "3333\n",
      "4444\n",
      "5555\n"
     ]
    }
   ],
   "source": [
    "mobiles = [1111, 2222, 3333,4444,5555]\n",
    "\n",
    "for m in mobiles:\n",
    "    print(m)"
   ]
  },
  {
   "cell_type": "code",
   "execution_count": 3,
   "metadata": {},
   "outputs": [],
   "source": [
    "# sms to mobile by python code\n",
    "\n"
   ]
  },
  {
   "cell_type": "code",
   "execution_count": 9,
   "metadata": {},
   "outputs": [
    {
     "name": "stdout",
     "output_type": "stream",
     "text": [
      "found\n"
     ]
    }
   ],
   "source": [
    "# Use case --> Requirement\n",
    "# I only want to print when Inencounter 2222 , as soon as encounter, print it and stop for loop\n",
    "\n",
    "mobiles = [1111, 2222, 3333,4444,5555]\n",
    "\n",
    "for m in mobiles:\n",
    "    if m == 2222:\n",
    "        print(\"found\")"
   ]
  },
  {
   "cell_type": "code",
   "execution_count": 13,
   "metadata": {},
   "outputs": [
    {
     "name": "stdout",
     "output_type": "stream",
     "text": [
      "found\n"
     ]
    }
   ],
   "source": [
    "# if my mobile number that I am looking for is not available, In this case, I want my program to send me not found\n",
    "# Traverse through the entire list, if the element not found -- only print \"not found\" just one time, otherwise when encounteres the element , print \"found\" and break the loop\n",
    "# if I have 1 billion numbers I don't want to print not found billion times.\n",
    "# 1st Approach\n",
    "mobiles = [1111, 2222, 3333,4444,5555]\n",
    "\n",
    "flag = 0\n",
    "\n",
    "for m in mobiles:\n",
    "    if m == 2222:\n",
    "        print(\"found\")\n",
    "        flag = 1\n",
    "        break\n",
    "\n",
    "if flag != 1:\n",
    "    print(\"not found\")\n"
   ]
  },
  {
   "cell_type": "code",
   "execution_count": 22,
   "metadata": {},
   "outputs": [
    {
     "name": "stdout",
     "output_type": "stream",
     "text": [
      "found\n",
      "not found\n"
     ]
    }
   ],
   "source": [
    "# else with the for loop also\n",
    "\n",
    "# How this Works \n",
    "# For loop will travese through the entire data it has, do matching one by one, even after matching they won't stop and keep on traversing till the last element\n",
    "# at the end of the entire data, no error occured, so for loop will complete, done with the entire data then only, it will run the else condition\n",
    "\n",
    "mobiles = [1111, 2222, 3333,4444,5555]\n",
    "for m in mobiles:\n",
    "    if m == 5555:\n",
    "        print(\"found\")\n",
    "else: \n",
    "        print(\"not found\")\n"
   ]
  },
  {
   "cell_type": "code",
   "execution_count": 23,
   "metadata": {},
   "outputs": [
    {
     "name": "stdout",
     "output_type": "stream",
     "text": [
      "not found\n"
     ]
    }
   ],
   "source": [
    "mobiles = [1111, 2222, 3333,4444,5555]\n",
    "for m in mobiles:\n",
    "    if m == 6666:\n",
    "        print(\"found\")\n",
    "else: \n",
    "        print(\"not found\")"
   ]
  },
  {
   "cell_type": "code",
   "execution_count": 26,
   "metadata": {},
   "outputs": [
    {
     "name": "stdout",
     "output_type": "stream",
     "text": [
      "found\n"
     ]
    }
   ],
   "source": [
    "# But I don't want to run the else part , if in the for loop they get the desired data.\n",
    "\n",
    "# so use break\n",
    "\n",
    "# for loop will iterate through the entire data, but if want to stop for loop in between, then use break\n",
    "# when to run the break, use conditions \n",
    "\n",
    "# as for loop is not completed till the last data. it will not go to else also\n",
    "# else only run with for loop -- if for loop runs through the entire data\n",
    "\n",
    "mobiles = [1111, 2222, 3333,4444,5555]\n",
    "for m in mobiles:\n",
    "    if m == 5555:\n",
    "        print(\"found\")\n",
    "        break\n",
    "else: \n",
    "        print(\"not found\")\n"
   ]
  },
  {
   "cell_type": "code",
   "execution_count": 27,
   "metadata": {},
   "outputs": [
    {
     "name": "stdout",
     "output_type": "stream",
     "text": [
      "not found\n"
     ]
    }
   ],
   "source": [
    "mobiles = [1111, 2222, 3333,4444,5555]\n",
    "for m in mobiles:\n",
    "    if m == 7777:\n",
    "        print(\"found\")\n",
    "        break\n",
    "else: \n",
    "        print(\"not found\")"
   ]
  },
  {
   "cell_type": "code",
   "execution_count": 30,
   "metadata": {},
   "outputs": [],
   "source": [
    "emails = [\n",
    "        \"vimal@lw.com\", \n",
    "        \"amit@gmail.com\", \n",
    "        \"po@l.com\", \n",
    "        \"n@n.com\",\n",
    "        \"p@k.com\", \n",
    "        \"krish@gmail.com\"\n",
    "\n",
    "]\n",
    "\n"
   ]
  },
  {
   "cell_type": "code",
   "execution_count": 31,
   "metadata": {},
   "outputs": [
    {
     "name": "stdout",
     "output_type": "stream",
     "text": [
      "vimal@lw.com\n",
      "amit@gmail.com\n",
      "po@l.com\n",
      "n@n.com\n",
      "p@k.com\n",
      "krish@gmail.com\n",
      "mail sent to all\n"
     ]
    }
   ],
   "source": [
    "# after picking email one by one and sending the mail to every email till the last\n",
    "# only then I want to notify to other team that, all the mail sent.\n",
    "# But, if somehow it gets intruppted somewhere in between, for loop stops; it will send notification\n",
    "# if this requirement comes up, we can approach like below\n",
    "\n",
    "for email in emails:\n",
    "    print(email)\n",
    "    # code to send mail\n",
    "else:\n",
    "    print(\"mail sent to all\")"
   ]
  },
  {
   "cell_type": "code",
   "execution_count": 34,
   "metadata": {},
   "outputs": [
    {
     "name": "stdout",
     "output_type": "stream",
     "text": [
      "40\n"
     ]
    }
   ],
   "source": [
    "# one requirement\n",
    "\n",
    "salary = 5\n",
    "\n",
    "if salary >= 4:\n",
    "    target = 40\n",
    "elif salary < 4:\n",
    "    target = 20\n",
    "\n",
    "print(target)"
   ]
  },
  {
   "cell_type": "code",
   "execution_count": 49,
   "metadata": {},
   "outputs": [
    {
     "name": "stdout",
     "output_type": "stream",
     "text": [
      "20\n"
     ]
    }
   ],
   "source": [
    "\n",
    "# 5 lines of code\n",
    "# set target either 20 or 40 based on this condition\n",
    "\n",
    "# # Functional Programming language\n",
    "# Inline Code == Like one single line the entire logic done\n",
    "\n",
    "# ternary conditional expression\n",
    "\n",
    "salary = 3\n",
    "target = 40 if salary >=4 else 20\n",
    "print(target)\n",
    "\n",
    "# in place of 40 and 20 , \n",
    "# we can introduce functions there to to do some different tasks \n",
    "# based on certain conditions\n"
   ]
  },
  {
   "cell_type": "code",
   "execution_count": 52,
   "metadata": {},
   "outputs": [
    {
     "data": {
      "text/plain": [
       "20"
      ]
     },
     "execution_count": 52,
     "metadata": {},
     "output_type": "execute_result"
    }
   ],
   "source": [
    "\n",
    "# more shorter\n",
    "\n",
    "salary = 3\n",
    "40 if salary >=4 else 20\n"
   ]
  },
  {
   "cell_type": "code",
   "execution_count": 53,
   "metadata": {},
   "outputs": [
    {
     "data": {
      "text/plain": [
       "'no job'"
      ]
     },
     "execution_count": 53,
     "metadata": {},
     "output_type": "execute_result"
    }
   ],
   "source": [
    "salary = 3\n",
    "\"job\" if salary >=4 else \"no job\"\n"
   ]
  },
  {
   "cell_type": "code",
   "execution_count": 48,
   "metadata": {},
   "outputs": [
    {
     "data": {
      "text/plain": [
       "'job'"
      ]
     },
     "execution_count": 48,
     "metadata": {},
     "output_type": "execute_result"
    }
   ],
   "source": [
    "salary = 4\n",
    "\"job\" if salary >=4 else \"no job\"\n"
   ]
  },
  {
   "cell_type": "markdown",
   "metadata": {},
   "source": [
    "ETL Operation"
   ]
  },
  {
   "cell_type": "code",
   "execution_count": 66,
   "metadata": {},
   "outputs": [
    {
     "name": "stdout",
     "output_type": "stream",
     "text": [
      "[1, 4, 9, 16, 25]\n"
     ]
    }
   ],
   "source": [
    "# I have a requirement\n",
    "# list of numbers\n",
    "\n",
    "db = [1,2,3,4,5]\n",
    "\n",
    "# requirement is square the number\n",
    "#  and put the squared values in another new list\n",
    "\n",
    "# ETL operation\n",
    "## Extract each number from db, Transform it by squaring, and Load the result into new_db\n",
    "\n",
    "new_db = []\n",
    "\n",
    "for i in db: # Extract\n",
    "    j = i * i # Transform\n",
    "    new_db.append(j) # Load \n",
    "\n",
    "print(new_db)"
   ]
  },
  {
   "cell_type": "markdown",
   "metadata": {},
   "source": [
    "**List Comprehension**"
   ]
  },
  {
   "cell_type": "code",
   "execution_count": 67,
   "metadata": {},
   "outputs": [
    {
     "name": "stdout",
     "output_type": "stream",
     "text": [
      "[1, 4, 9, 16, 25]\n"
     ]
    }
   ],
   "source": [
    "db = [1,2,3,4,5]\n",
    "\n",
    "# ETL in one single line\n",
    "# logic in one line using list comprehension\n",
    "new_db = [i * i for i in db]\n",
    "\n",
    "print(new_db)"
   ]
  },
  {
   "cell_type": "code",
   "execution_count": 68,
   "metadata": {},
   "outputs": [
    {
     "name": "stdout",
     "output_type": "stream",
     "text": [
      "[1, 4, 16, 25]\n"
     ]
    }
   ],
   "source": [
    "\n",
    "db = [1,2,3,4,5]\n",
    "new_db = []\n",
    "\n",
    "for i in db: # Extract\n",
    "    if i !=3: # don't square when 3 is encountered\n",
    "        j = i * i # Transform\n",
    "        new_db.append(j) # Load \n",
    "\n",
    "print(new_db)"
   ]
  },
  {
   "cell_type": "markdown",
   "metadata": {
    "vscode": {
     "languageId": "raw"
    }
   },
   "source": [
    "Syntax:\n",
    "\n",
    "new_list = [ Transforming  Extracting  ConditionMatching ] \n",
    "    4             3            1              2\n",
    "   Load \n",
    "\n",
    "new_db = [    i * i       for i in db       if i != 3    ]"
   ]
  },
  {
   "cell_type": "code",
   "execution_count": 73,
   "metadata": {},
   "outputs": [
    {
     "name": "stdout",
     "output_type": "stream",
     "text": [
      "[1, 4, 16, 25]\n"
     ]
    }
   ],
   "source": [
    "# same with List Cmprehension\n",
    "\n",
    "db = [1,2,3,4,5]\n",
    "\n",
    "# LIST COMPREHENSION\n",
    "new_db = [i * i      for i in db    if i != 3]\n",
    "\n",
    "print(new_db)"
   ]
  },
  {
   "cell_type": "code",
   "execution_count": null,
   "metadata": {},
   "outputs": [],
   "source": []
  }
 ],
 "metadata": {
  "kernelspec": {
   "display_name": "Python 3",
   "language": "python",
   "name": "python3"
  },
  "language_info": {
   "codemirror_mode": {
    "name": "ipython",
    "version": 3
   },
   "file_extension": ".py",
   "mimetype": "text/x-python",
   "name": "python",
   "nbconvert_exporter": "python",
   "pygments_lexer": "ipython3",
   "version": "3.10.12"
  }
 },
 "nbformat": 4,
 "nbformat_minor": 2
}
